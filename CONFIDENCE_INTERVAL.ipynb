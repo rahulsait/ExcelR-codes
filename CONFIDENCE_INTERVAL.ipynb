{
  "nbformat": 4,
  "nbformat_minor": 0,
  "metadata": {
    "colab": {
      "name": "CONFIDENCE INTERVAL.ipynb",
      "provenance": [],
      "collapsed_sections": [],
      "authorship_tag": "ABX9TyN2jK8aFd+NHXxwsi3nDU1i",
      "include_colab_link": true
    },
    "kernelspec": {
      "name": "python3",
      "display_name": "Python 3"
    },
    "language_info": {
      "name": "python"
    }
  },
  "cells": [
    {
      "cell_type": "markdown",
      "metadata": {
        "id": "view-in-github",
        "colab_type": "text"
      },
      "source": [
        "<a href=\"https://colab.research.google.com/github/rahulsait/ExcelR-codes/blob/main/CONFIDENCE_INTERVAL.ipynb\" target=\"_parent\"><img src=\"https://colab.research.google.com/assets/colab-badge.svg\" alt=\"Open In Colab\"/></a>"
      ]
    },
    {
      "cell_type": "code",
      "execution_count": null,
      "metadata": {
        "id": "OGw-vnE3jKls"
      },
      "outputs": [],
      "source": [
        ""
      ]
    },
    {
      "cell_type": "markdown",
      "source": [
        "# **Confidence Interval :**"
      ],
      "metadata": {
        "id": "hy0jXfB3jxzp"
      }
    },
    {
      "cell_type": "code",
      "source": [
        ""
      ],
      "metadata": {
        "id": "z1wgaGmCj7t7"
      },
      "execution_count": null,
      "outputs": []
    },
    {
      "cell_type": "markdown",
      "source": [
        " **A Confidence Interval is a range of estimates for an unknown parameter.**\n",
        " 95 % Confidence Level is most common."
      ],
      "metadata": {
        "id": "f00j5CCrj8oD"
      }
    },
    {
      "cell_type": "code",
      "source": [
        ""
      ],
      "metadata": {
        "id": "yju5HnIOkTUJ"
      },
      "execution_count": null,
      "outputs": []
    },
    {
      "cell_type": "code",
      "source": [
        "import numpy as np\n",
        "import pandas as pd"
      ],
      "metadata": {
        "id": "wQP_S2R9kg6_"
      },
      "execution_count": 1,
      "outputs": []
    },
    {
      "cell_type": "code",
      "source": [
        "from scipy import stats"
      ],
      "metadata": {
        "id": "KhjELWjf4j5_"
      },
      "execution_count": 6,
      "outputs": []
    },
    {
      "cell_type": "code",
      "source": [
        ""
      ],
      "metadata": {
        "id": "Uy3s8WVd4l_v"
      },
      "execution_count": null,
      "outputs": []
    },
    {
      "cell_type": "markdown",
      "source": [
        "For Credit Card Example :"
      ],
      "metadata": {
        "id": "aySDwukW4tFb"
      }
    },
    {
      "cell_type": "code",
      "source": [
        "# sample mean = 1990 population standard deviation = 2500 sample space = 140 with Confidence Interval = 95 %\n",
        "# We use Z test to compute the intervals as Population SD is given\n",
        "# to get the value of z score - \n",
        "stats.norm.ppf(0.975)\n"
      ],
      "metadata": {
        "colab": {
          "base_uri": "https://localhost:8080/"
        },
        "id": "rxZNtJVh4xJj",
        "outputId": "892b23a4-4db6-4806-bca7-4d2dde9067df"
      },
      "execution_count": 4,
      "outputs": [
        {
          "output_type": "execute_result",
          "data": {
            "text/plain": [
              "1.959963984540054"
            ]
          },
          "metadata": {},
          "execution_count": 4
        }
      ]
    },
    {
      "cell_type": "code",
      "source": [
        "# after getting the z score we can now solve the intervals equation."
      ],
      "metadata": {
        "id": "TeDM4wTV57XS"
      },
      "execution_count": 5,
      "outputs": []
    },
    {
      "cell_type": "code",
      "source": [
        "# when the population SD is not given, we have to rely on the Sample SD and t score instead of Z score :\n",
        "# to get the the value of t score -\n",
        "stats.t.ppf(0.975, df = 139)"
      ],
      "metadata": {
        "colab": {
          "base_uri": "https://localhost:8080/"
        },
        "id": "vKPBRBG364Fp",
        "outputId": "4c5660e5-6e80-4da2-bc99-d3898ff21ef2"
      },
      "execution_count": 7,
      "outputs": [
        {
          "output_type": "execute_result",
          "data": {
            "text/plain": [
              "1.977177724476122"
            ]
          },
          "metadata": {},
          "execution_count": 7
        }
      ]
    },
    {
      "cell_type": "code",
      "source": [
        "# after getting the t score we can now solve the intervals equation."
      ],
      "metadata": {
        "id": "rMn2HrLa7UqI"
      },
      "execution_count": 8,
      "outputs": []
    },
    {
      "cell_type": "code",
      "source": [
        ""
      ],
      "metadata": {
        "id": "Ow_lptYp7tsL"
      },
      "execution_count": null,
      "outputs": []
    },
    {
      "cell_type": "markdown",
      "source": [
        "**Lets compute C I for BEML and GLAXO gains**"
      ],
      "metadata": {
        "id": "8as6qrba-lqB"
      }
    },
    {
      "cell_type": "code",
      "source": [
        "import numpy as np\n",
        "import pandas as pd\n",
        "from scipy import stats"
      ],
      "metadata": {
        "id": "2wmGBnHO-u2_"
      },
      "execution_count": 9,
      "outputs": []
    },
    {
      "cell_type": "code",
      "source": [
        "glaxo_df = pd.read_csv(\"/content/GLAXO.csv\")"
      ],
      "metadata": {
        "id": "AtupsbRF_zv0"
      },
      "execution_count": 12,
      "outputs": []
    },
    {
      "cell_type": "code",
      "source": [
        "glaxo_df[\"gain\"] = glaxo_df.Close.pct_change(periods = 1)"
      ],
      "metadata": {
        "id": "RIIjFb68Bwmc"
      },
      "execution_count": 14,
      "outputs": []
    },
    {
      "cell_type": "code",
      "source": [
        "glaxo_df_ci = stats.norm.interval(0.95,\n",
        "loc = glaxo_df.gain.mean(),\n",
        "scale = glaxo_df.gain.std())"
      ],
      "metadata": {
        "id": "zPLzk5y9_-UI"
      },
      "execution_count": 15,
      "outputs": []
    },
    {
      "cell_type": "code",
      "source": [
        "print(\"Gain at 95 % CI is : \", np.round(glaxo_df_ci, 4))"
      ],
      "metadata": {
        "colab": {
          "base_uri": "https://localhost:8080/"
        },
        "id": "oR-OnR4jCSxz",
        "outputId": "3f78b4b8-24f9-40da-9e37-81176fc65798"
      },
      "execution_count": 19,
      "outputs": [
        {
          "output_type": "stream",
          "name": "stdout",
          "text": [
            "Gain at 95 % CI is :  [-0.0258  0.0266]\n"
          ]
        }
      ]
    },
    {
      "cell_type": "code",
      "source": [
        "beml_df = pd.read_csv(\"/content/BEML.csv\")"
      ],
      "metadata": {
        "id": "nh3wApXzC56c"
      },
      "execution_count": 20,
      "outputs": []
    },
    {
      "cell_type": "code",
      "source": [
        "beml_df[\"gain\"] = beml_df.Close.pct_change(periods = 1)"
      ],
      "metadata": {
        "id": "4cuyVI_1DR9b"
      },
      "execution_count": 21,
      "outputs": []
    },
    {
      "cell_type": "code",
      "source": [
        "beml_df_ci = stats.norm.interval(0.95,\n",
        "loc = beml_df.gain.mean(),\n",
        "scale = beml_df.gain.std())"
      ],
      "metadata": {
        "id": "KcZ67_9ADbYF"
      },
      "execution_count": 22,
      "outputs": []
    },
    {
      "cell_type": "code",
      "source": [
        "print(\"Gain at 95 % CI is : \", np.round(beml_df_ci, 4))"
      ],
      "metadata": {
        "colab": {
          "base_uri": "https://localhost:8080/"
        },
        "id": "vNLMErrjDzVC",
        "outputId": "d5b454ac-6c89-4d5a-900e-5cc9462e686c"
      },
      "execution_count": 23,
      "outputs": [
        {
          "output_type": "stream",
          "name": "stdout",
          "text": [
            "Gain at 95 % CI is :  [-0.0515  0.0521]\n"
          ]
        }
      ]
    },
    {
      "cell_type": "code",
      "source": [
        ""
      ],
      "metadata": {
        "id": "BfFLCkJUD7dI"
      },
      "execution_count": null,
      "outputs": []
    }
  ]
}