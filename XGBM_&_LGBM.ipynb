{
  "nbformat": 4,
  "nbformat_minor": 0,
  "metadata": {
    "colab": {
      "provenance": [],
      "collapsed_sections": [],
      "authorship_tag": "ABX9TyN0c0RfPFB9lY0Be/yVe1Bg",
      "include_colab_link": true
    },
    "kernelspec": {
      "name": "python3",
      "display_name": "Python 3"
    },
    "language_info": {
      "name": "python"
    }
  },
  "cells": [
    {
      "cell_type": "markdown",
      "metadata": {
        "id": "view-in-github",
        "colab_type": "text"
      },
      "source": [
        "<a href=\"https://colab.research.google.com/github/rahulsait/ExcelR-codes/blob/main/XGBM_%26_LGBM.ipynb\" target=\"_parent\"><img src=\"https://colab.research.google.com/assets/colab-badge.svg\" alt=\"Open In Colab\"/></a>"
      ]
    },
    {
      "cell_type": "markdown",
      "source": [
        "# **XGBM :**"
      ],
      "metadata": {
        "id": "e1THIkvbAX_X"
      }
    },
    {
      "cell_type": "code",
      "execution_count": 1,
      "metadata": {
        "colab": {
          "base_uri": "https://localhost:8080/"
        },
        "id": "xQErwdgO_qZ9",
        "outputId": "12b8ffa6-dc17-4e0c-dfd8-a00b34e00635"
      },
      "outputs": [
        {
          "output_type": "stream",
          "name": "stdout",
          "text": [
            "Looking in indexes: https://pypi.org/simple, https://us-python.pkg.dev/colab-wheels/public/simple/\n",
            "Requirement already satisfied: xgboost in /usr/local/lib/python3.7/dist-packages (0.90)\n",
            "Requirement already satisfied: scipy in /usr/local/lib/python3.7/dist-packages (from xgboost) (1.7.3)\n",
            "Requirement already satisfied: numpy in /usr/local/lib/python3.7/dist-packages (from xgboost) (1.21.6)\n"
          ]
        }
      ],
      "source": [
        "!pip install xgboost"
      ]
    },
    {
      "cell_type": "code",
      "source": [
        "# First XGBM for Pima Indians dataset :\n",
        "\n",
        "from numpy import loadtxt\n",
        "from xgboost import XGBClassifier\n",
        "from sklearn.model_selection import train_test_split\n",
        "from sklearn.metrics import accuracy_score"
      ],
      "metadata": {
        "id": "TzbsSa9nAfs3"
      },
      "execution_count": 2,
      "outputs": []
    },
    {
      "cell_type": "code",
      "source": [
        "# Load the dataset :\n",
        "\n",
        "dataset = loadtxt(\"/content/pima-indians-diabetes.data.csv\", delimiter = \",\")\n",
        "\n",
        "# Split the data into X and Y :\n",
        "\n",
        "X = dataset[:,0:8]\n",
        "Y = dataset[:,8]"
      ],
      "metadata": {
        "id": "cBjBSVuRJ1zb"
      },
      "execution_count": 4,
      "outputs": []
    },
    {
      "cell_type": "code",
      "source": [
        "# Split the data into train and test sets :\n",
        "\n",
        "seed = 7\n",
        "test_size = 0.33\n",
        "X_train, X_test, Y_train, Y_test = train_test_split(X, Y, test_size = test_size, random_state = seed)"
      ],
      "metadata": {
        "id": "-UgnIdciKWIC"
      },
      "execution_count": 5,
      "outputs": []
    },
    {
      "cell_type": "code",
      "source": [
        "# Fit the model on training set :\n",
        "\n",
        "model = XGBClassifier()\n",
        "model.fit(X_train, Y_train)"
      ],
      "metadata": {
        "colab": {
          "base_uri": "https://localhost:8080/"
        },
        "id": "QA3zHj6iK5C0",
        "outputId": "2e9eb4ea-7b17-40b1-93c0-13f4fde74732"
      },
      "execution_count": 7,
      "outputs": [
        {
          "output_type": "execute_result",
          "data": {
            "text/plain": [
              "XGBClassifier()"
            ]
          },
          "metadata": {},
          "execution_count": 7
        }
      ]
    },
    {
      "cell_type": "code",
      "source": [
        "# Make predictions for test set :\n",
        "\n",
        "Y_pred = model.predict(X_test)\n",
        "predictions = [round(value) for value in Y_pred]"
      ],
      "metadata": {
        "id": "8XCIn-W-LEHT"
      },
      "execution_count": 8,
      "outputs": []
    },
    {
      "cell_type": "code",
      "source": [
        "# Evaluate predictions :\n",
        "\n",
        "accuracy = accuracy_score(Y_test, predictions)\n",
        "print(\"Accuracy : %.2f%%\" % (accuracy*100.0))"
      ],
      "metadata": {
        "colab": {
          "base_uri": "https://localhost:8080/"
        },
        "id": "NQLw5VLCLuOa",
        "outputId": "5cf55a4b-caf2-40c5-d667-6b5409fc8dce"
      },
      "execution_count": 9,
      "outputs": [
        {
          "output_type": "stream",
          "name": "stdout",
          "text": [
            "Accuracy : 77.95%\n"
          ]
        }
      ]
    },
    {
      "cell_type": "code",
      "source": [
        "predictions"
      ],
      "metadata": {
        "id": "1svUIjmtMOtK"
      },
      "execution_count": null,
      "outputs": []
    },
    {
      "cell_type": "code",
      "source": [],
      "metadata": {
        "id": "Sp1KrGRtMfw4"
      },
      "execution_count": null,
      "outputs": []
    },
    {
      "cell_type": "markdown",
      "source": [
        "# **LGBM :**"
      ],
      "metadata": {
        "id": "JGN535RFMooO"
      }
    },
    {
      "cell_type": "code",
      "source": [
        "!pip install Lightgbm"
      ],
      "metadata": {
        "colab": {
          "base_uri": "https://localhost:8080/"
        },
        "id": "UHc_wAEBMsiB",
        "outputId": "bef2e12b-24a3-4746-8dfd-1286af1cabab"
      },
      "execution_count": 11,
      "outputs": [
        {
          "output_type": "stream",
          "name": "stdout",
          "text": [
            "Looking in indexes: https://pypi.org/simple, https://us-python.pkg.dev/colab-wheels/public/simple/\n",
            "Requirement already satisfied: Lightgbm in /usr/local/lib/python3.7/dist-packages (2.2.3)\n",
            "Requirement already satisfied: numpy in /usr/local/lib/python3.7/dist-packages (from Lightgbm) (1.21.6)\n",
            "Requirement already satisfied: scipy in /usr/local/lib/python3.7/dist-packages (from Lightgbm) (1.7.3)\n",
            "Requirement already satisfied: scikit-learn in /usr/local/lib/python3.7/dist-packages (from Lightgbm) (1.0.2)\n",
            "Requirement already satisfied: threadpoolctl>=2.0.0 in /usr/local/lib/python3.7/dist-packages (from scikit-learn->Lightgbm) (3.1.0)\n",
            "Requirement already satisfied: joblib>=0.11 in /usr/local/lib/python3.7/dist-packages (from scikit-learn->Lightgbm) (1.2.0)\n"
          ]
        }
      ]
    },
    {
      "cell_type": "code",
      "source": [
        "# Importing lib :\n",
        "\n",
        "import numpy as np\n",
        "import matplotlib.pyplot as plt\n",
        "import pandas as pd"
      ],
      "metadata": {
        "id": "5o4xzuhPM5JY"
      },
      "execution_count": 12,
      "outputs": []
    },
    {
      "cell_type": "code",
      "source": [
        "# Load the dataset :\n",
        "\n",
        "dataset = loadtxt(\"/content/pima-indians-diabetes.data.csv\", delimiter = \",\")\n",
        "\n",
        "# Split the data into X and Y :\n",
        "\n",
        "X = dataset[:,0:8]\n",
        "Y = dataset[:,8]"
      ],
      "metadata": {
        "id": "E11dtVA8NIum"
      },
      "execution_count": 13,
      "outputs": []
    },
    {
      "cell_type": "code",
      "source": [
        "# Split the data into train and test sets :\n",
        "\n",
        "seed = 0\n",
        "test_size = 0.25\n",
        "X_train, X_test, Y_train, Y_test = train_test_split(X, Y, test_size = test_size, random_state = seed)"
      ],
      "metadata": {
        "id": "L7AOnIM0NVck"
      },
      "execution_count": 14,
      "outputs": []
    },
    {
      "cell_type": "code",
      "source": [
        "import lightgbm as lgb\n",
        "d_train = lgb.Dataset(X_train, label = Y_train)"
      ],
      "metadata": {
        "id": "qyzFGYpVNkrj"
      },
      "execution_count": 15,
      "outputs": []
    },
    {
      "cell_type": "code",
      "source": [
        "params = {}\n",
        "params[\"learning_rate\"] = 0.003\n",
        "params[\"boosting_type\"] = \"gbdt\"\n",
        "params[\"objective\"] = \"binary\"\n",
        "params[\"metric\"] = \"binary_logloss\"\n",
        "params[\"sub_feature\"] = 0.5\n",
        "params[\"num_leaves\"] = 10\n",
        "params[\"min_data\"] = 50\n",
        "params[\"max_depth\"] = 10"
      ],
      "metadata": {
        "id": "N0wopCa4N3l9"
      },
      "execution_count": 16,
      "outputs": []
    },
    {
      "cell_type": "code",
      "source": [
        "clf = lgb.train(params, d_train, 1500)"
      ],
      "metadata": {
        "id": "rbb45fZXOnqA"
      },
      "execution_count": 17,
      "outputs": []
    },
    {
      "cell_type": "code",
      "source": [
        "# Predictions :\n",
        "\n",
        "Y_pred = clf.predict(X_test)"
      ],
      "metadata": {
        "id": "9ovrLb_zO27g"
      },
      "execution_count": 18,
      "outputs": []
    },
    {
      "cell_type": "code",
      "source": [
        "predictions = [round(value) for value in Y_pred]"
      ],
      "metadata": {
        "id": "7KeIpjINPA7O"
      },
      "execution_count": 19,
      "outputs": []
    },
    {
      "cell_type": "code",
      "source": [
        "accuracy = accuracy_score(Y_test, predictions)"
      ],
      "metadata": {
        "id": "zmDMjN1UPKDH"
      },
      "execution_count": 20,
      "outputs": []
    },
    {
      "cell_type": "code",
      "source": [
        "accuracy"
      ],
      "metadata": {
        "colab": {
          "base_uri": "https://localhost:8080/"
        },
        "id": "IPGonhdzPQDR",
        "outputId": "8fef0ae2-bff7-478e-b303-a289747c147a"
      },
      "execution_count": 21,
      "outputs": [
        {
          "output_type": "execute_result",
          "data": {
            "text/plain": [
              "0.765625"
            ]
          },
          "metadata": {},
          "execution_count": 21
        }
      ]
    },
    {
      "cell_type": "code",
      "source": [],
      "metadata": {
        "id": "GQAJlfLoPR6I"
      },
      "execution_count": null,
      "outputs": []
    }
  ]
}