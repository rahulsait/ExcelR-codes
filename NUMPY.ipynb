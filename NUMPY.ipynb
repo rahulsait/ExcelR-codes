{
  "nbformat": 4,
  "nbformat_minor": 0,
  "metadata": {
    "colab": {
      "provenance": [],
      "authorship_tag": "ABX9TyPtNeIW0hsnvhoMt68JAthI",
      "include_colab_link": true
    },
    "kernelspec": {
      "name": "python3",
      "display_name": "Python 3"
    },
    "language_info": {
      "name": "python"
    }
  },
  "cells": [
    {
      "cell_type": "markdown",
      "metadata": {
        "id": "view-in-github",
        "colab_type": "text"
      },
      "source": [
        "<a href=\"https://colab.research.google.com/github/rahulsait/ExcelR-codes/blob/main/NUMPY.ipynb\" target=\"_parent\"><img src=\"https://colab.research.google.com/assets/colab-badge.svg\" alt=\"Open In Colab\"/></a>"
      ]
    },
    {
      "cell_type": "markdown",
      "source": [
        "#**NUMPY** for **EDA**\n",
        "###**NumPY ~ Numerical Python**"
      ],
      "metadata": {
        "id": "f3TiY7VhDYzj"
      }
    },
    {
      "cell_type": "code",
      "execution_count": 1,
      "metadata": {
        "id": "WQuE1zASDF-2"
      },
      "outputs": [],
      "source": [
        "import numpy as np"
      ]
    },
    {
      "cell_type": "code",
      "source": [
        "x = {1,2,3,4,5,6,7,8,9,10}\n",
        "print(x)\n",
        "print(type(x))"
      ],
      "metadata": {
        "colab": {
          "base_uri": "https://localhost:8080/"
        },
        "id": "U3FYra-Fgw4k",
        "outputId": "c7f870fc-7fad-4acd-85ec-3c8e2bf95808"
      },
      "execution_count": 2,
      "outputs": [
        {
          "output_type": "stream",
          "name": "stdout",
          "text": [
            "{1, 2, 3, 4, 5, 6, 7, 8, 9, 10}\n",
            "<class 'set'>\n"
          ]
        }
      ]
    },
    {
      "cell_type": "code",
      "source": [
        "y = [1,2,3,4,5]\n",
        "print(y)\n",
        "type(y)\n",
        "print(y*2) # values of the list are repeated but not multiplied by 2"
      ],
      "metadata": {
        "colab": {
          "base_uri": "https://localhost:8080/"
        },
        "id": "Yy9jKg67ih7b",
        "outputId": "c00383f3-bb82-4fc2-f05d-fcbea9e1ac1a"
      },
      "execution_count": 6,
      "outputs": [
        {
          "output_type": "stream",
          "name": "stdout",
          "text": [
            "[1, 2, 3, 4, 5]\n",
            "[1, 2, 3, 4, 5, 1, 2, 3, 4, 5]\n"
          ]
        }
      ]
    },
    {
      "cell_type": "markdown",
      "source": [
        "    numpy array will help access the values"
      ],
      "metadata": {
        "id": "MA4m4t3-j06-"
      }
    },
    {
      "cell_type": "code",
      "source": [
        "arry = np.array(y)\n",
        "print(arry)\n",
        "type(arry)"
      ],
      "metadata": {
        "colab": {
          "base_uri": "https://localhost:8080/"
        },
        "id": "DJYm9-jTi0Q1",
        "outputId": "36c013c3-d8ec-44be-bb25-006a50f67a0e"
      },
      "execution_count": 7,
      "outputs": [
        {
          "output_type": "stream",
          "name": "stdout",
          "text": [
            "[1 2 3 4 5]\n"
          ]
        },
        {
          "output_type": "execute_result",
          "data": {
            "text/plain": [
              "numpy.ndarray"
            ]
          },
          "metadata": {},
          "execution_count": 7
        }
      ]
    },
    {
      "cell_type": "code",
      "source": [
        "print(arry*2) # each element is mutliplied by 2 and the output gets printed as below"
      ],
      "metadata": {
        "colab": {
          "base_uri": "https://localhost:8080/"
        },
        "id": "5IuQAmn6jQJz",
        "outputId": "d629ceef-df0a-4515-fa1a-e192a2af7000"
      },
      "execution_count": 8,
      "outputs": [
        {
          "output_type": "stream",
          "name": "stdout",
          "text": [
            "[ 2  4  6  8 10]\n"
          ]
        }
      ]
    },
    {
      "cell_type": "code",
      "source": [
        "arry > 3 # checks which elements of arry > 3\n",
        "# True ~ 1 ; False ~ 0"
      ],
      "metadata": {
        "colab": {
          "base_uri": "https://localhost:8080/"
        },
        "id": "vwpA2Sw4jQHs",
        "outputId": "af169cb3-6e11-46de-dc72-b9de0a52baa8"
      },
      "execution_count": 11,
      "outputs": [
        {
          "output_type": "execute_result",
          "data": {
            "text/plain": [
              "array([False, False, False,  True,  True])"
            ]
          },
          "metadata": {},
          "execution_count": 11
        }
      ]
    },
    {
      "cell_type": "code",
      "source": [
        "arry[arry > 3] # returns or retrieves the elements satisfying this condition"
      ],
      "metadata": {
        "colab": {
          "base_uri": "https://localhost:8080/"
        },
        "id": "rSA3Rx2zjQFW",
        "outputId": "78ae8338-8811-4b50-cdfa-50a67866db4d"
      },
      "execution_count": 17,
      "outputs": [
        {
          "output_type": "execute_result",
          "data": {
            "text/plain": [
              "array([4, 5])"
            ]
          },
          "metadata": {},
          "execution_count": 17
        }
      ]
    },
    {
      "cell_type": "code",
      "source": [
        "from numpy import random # imports the random submodel(function or method) from numpy\n",
        "\n",
        "x = random.randint(1,9) # generates a random int between a specified range\n",
        "print(x) # first arg is included ie. 1 here and excludes next arg ie. 9 in this case"
      ],
      "metadata": {
        "colab": {
          "base_uri": "https://localhost:8080/"
        },
        "id": "t1u4Mc5DjP-k",
        "outputId": "46317253-864b-4f54-9b4f-c96f7c48e8dc"
      },
      "execution_count": 26,
      "outputs": [
        {
          "output_type": "stream",
          "name": "stdout",
          "text": [
            "2\n"
          ]
        }
      ]
    },
    {
      "cell_type": "code",
      "source": [
        "print(x)"
      ],
      "metadata": {
        "colab": {
          "base_uri": "https://localhost:8080/"
        },
        "id": "x7A2WGvjjP8k",
        "outputId": "2c84cc77-c555-4cc2-ca3e-379dac6abce3"
      },
      "execution_count": 27,
      "outputs": [
        {
          "output_type": "stream",
          "name": "stdout",
          "text": [
            "2\n"
          ]
        }
      ]
    },
    {
      "cell_type": "markdown",
      "source": [
        "##**Memory Savers :**\n",
        "    \"Memory saver\" in Python refers to techniques and practices\n",
        "    aimed at reducing the amount of memory a Python program consumes during execution.\n",
        "    This is crucial for performance,\n",
        "    especially when dealing with large datasets or running applications on systems with limited resources."
      ],
      "metadata": {
        "id": "lrVqLJexpEoD"
      }
    },
    {
      "cell_type": "markdown",
      "source": [
        "    numpy arrays share the memory instead of allocating seperate memories"
      ],
      "metadata": {
        "id": "XF9tSxMyzpYd"
      }
    },
    {
      "cell_type": "code",
      "source": [
        "arr = np.arange(0,21)\n",
        "print(arr)\n",
        "print(type(arr))"
      ],
      "metadata": {
        "id": "8d_ODkeYzcs6",
        "colab": {
          "base_uri": "https://localhost:8080/"
        },
        "outputId": "347c3f4d-708a-4e67-844b-aed77c2d5c92"
      },
      "execution_count": 35,
      "outputs": [
        {
          "output_type": "stream",
          "name": "stdout",
          "text": [
            "[ 0  1  2  3  4  5  6  7  8  9 10 11 12 13 14 15 16 17 18 19 20]\n",
            "<class 'numpy.ndarray'>\n"
          ]
        }
      ]
    },
    {
      "cell_type": "code",
      "source": [
        "arr1 = np.arange(21)\n",
        "print(arr1)"
      ],
      "metadata": {
        "colab": {
          "base_uri": "https://localhost:8080/"
        },
        "id": "AXvchh3i1y19",
        "outputId": "ae96ff1a-139e-47e7-d71e-da9180f7ebf4"
      },
      "execution_count": 36,
      "outputs": [
        {
          "output_type": "stream",
          "name": "stdout",
          "text": [
            "[ 0  1  2  3  4  5  6  7  8  9 10 11 12 13 14 15 16 17 18 19 20]\n"
          ]
        }
      ]
    },
    {
      "cell_type": "code",
      "source": [
        "arr2 = arr1[2 : 17 : 3]\n",
        "print(arr2)"
      ],
      "metadata": {
        "colab": {
          "base_uri": "https://localhost:8080/"
        },
        "id": "uAXhydpj2ObP",
        "outputId": "fdeb99bb-8f96-4808-afa5-4f4ed6048fd9"
      },
      "execution_count": 38,
      "outputs": [
        {
          "output_type": "stream",
          "name": "stdout",
          "text": [
            "[ 2  5  8 11 14]\n"
          ]
        }
      ]
    },
    {
      "cell_type": "code",
      "source": [],
      "metadata": {
        "id": "eGbrbWRq2OZb"
      },
      "execution_count": null,
      "outputs": []
    },
    {
      "cell_type": "code",
      "source": [],
      "metadata": {
        "id": "-ro3wheY2OXl"
      },
      "execution_count": null,
      "outputs": []
    },
    {
      "cell_type": "code",
      "source": [],
      "metadata": {
        "id": "3NZKuOjF2OWD"
      },
      "execution_count": null,
      "outputs": []
    },
    {
      "cell_type": "code",
      "source": [],
      "metadata": {
        "id": "xPJegdhr2OTi"
      },
      "execution_count": null,
      "outputs": []
    },
    {
      "cell_type": "code",
      "source": [],
      "metadata": {
        "id": "Y_Bd49PM2ORX"
      },
      "execution_count": null,
      "outputs": []
    },
    {
      "cell_type": "code",
      "source": [],
      "metadata": {
        "id": "OTbvaLnf2OOy"
      },
      "execution_count": null,
      "outputs": []
    }
  ]
}