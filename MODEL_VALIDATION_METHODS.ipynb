{
  "nbformat": 4,
  "nbformat_minor": 0,
  "metadata": {
    "colab": {
      "provenance": [],
      "collapsed_sections": [],
      "authorship_tag": "ABX9TyN4/Drg7P2TR1x570sYzH0W",
      "include_colab_link": true
    },
    "kernelspec": {
      "name": "python3",
      "display_name": "Python 3"
    },
    "language_info": {
      "name": "python"
    }
  },
  "cells": [
    {
      "cell_type": "markdown",
      "metadata": {
        "id": "view-in-github",
        "colab_type": "text"
      },
      "source": [
        "<a href=\"https://colab.research.google.com/github/rahulsait/ExcelR-codes/blob/main/MODEL_VALIDATION_METHODS.ipynb\" target=\"_parent\"><img src=\"https://colab.research.google.com/assets/colab-badge.svg\" alt=\"Open In Colab\"/></a>"
      ]
    },
    {
      "cell_type": "code",
      "execution_count": null,
      "metadata": {
        "id": "sNTnfr4CRZIJ"
      },
      "outputs": [],
      "source": []
    },
    {
      "cell_type": "markdown",
      "source": [
        "# **Train and Test Set :**"
      ],
      "metadata": {
        "id": "t4An8S66TVlU"
      }
    },
    {
      "cell_type": "code",
      "source": [
        "# import T-T libs :\n",
        "\n",
        "from pandas import read_csv\n",
        "from sklearn.model_selection import train_test_split\n",
        "from sklearn.linear_model import LogisticRegression"
      ],
      "metadata": {
        "id": "ObBjVSgGTagf"
      },
      "execution_count": 1,
      "outputs": []
    },
    {
      "cell_type": "code",
      "source": [
        "# load the dataset :\n",
        "\n",
        "filename = \"pima-indians-diabetes.data.csv\"\n",
        "names = [\"preg\",\"plas\",\"pres\",\"skin\",\"test\",\"mass\",\"pedi\",\"age\",\"class\"]\n",
        "dataframe = read_csv(filename, names = names)\n",
        "array = dataframe.values\n",
        "\n",
        "X = array[:,0:8]\n",
        "Y = array[:,8]\n",
        "test_size = 0.33\n",
        "seed = 7"
      ],
      "metadata": {
        "id": "ITRuJ3EjURW0"
      },
      "execution_count": 2,
      "outputs": []
    },
    {
      "cell_type": "code",
      "source": [
        "X_train, X_test, Y_train, Y_test = train_test_split(X, Y, test_size = test_size, random_state = seed)\n",
        "model = LogisticRegression(max_iter = 500)\n",
        "model.fit(X_train, Y_train)\n",
        "result = model.score(X_test, Y_test)"
      ],
      "metadata": {
        "id": "Fv-OSDk8Xija"
      },
      "execution_count": 4,
      "outputs": []
    },
    {
      "cell_type": "code",
      "source": [
        "result*100.00"
      ],
      "metadata": {
        "colab": {
          "base_uri": "https://localhost:8080/"
        },
        "id": "2ejwQjSMYTmk",
        "outputId": "f3b6d226-7b0e-4f58-aff9-4358b3f3a901"
      },
      "execution_count": 5,
      "outputs": [
        {
          "output_type": "execute_result",
          "data": {
            "text/plain": [
              "78.74015748031496"
            ]
          },
          "metadata": {},
          "execution_count": 5
        }
      ]
    },
    {
      "cell_type": "markdown",
      "source": [
        "### **Accuracy of the Model is 78.74**"
      ],
      "metadata": {
        "id": "kvecxLV4nnTr"
      }
    },
    {
      "cell_type": "code",
      "source": [],
      "metadata": {
        "id": "mWMWplKkYy4q"
      },
      "execution_count": null,
      "outputs": []
    },
    {
      "cell_type": "markdown",
      "source": [
        "# **K-Fold-Cross-Validation :**"
      ],
      "metadata": {
        "id": "V_XcDo89oN7B"
      }
    },
    {
      "cell_type": "markdown",
      "source": [
        "### **K = 10**"
      ],
      "metadata": {
        "id": "zUID8zewoayn"
      }
    },
    {
      "cell_type": "code",
      "source": [
        "# import KFCV lib :\n",
        "\n",
        "from pandas import read_csv\n",
        "from sklearn.model_selection import KFold\n",
        "from sklearn.model_selection import cross_val_score\n",
        "from sklearn.linear_model import LogisticRegression"
      ],
      "metadata": {
        "id": "hIAjHTKcoWwm"
      },
      "execution_count": 1,
      "outputs": []
    },
    {
      "cell_type": "code",
      "source": [
        "# load the dataset :\n",
        "\n",
        "filename = \"pima-indians-diabetes.data.csv\"\n",
        "names = [\"preg\",\"plas\",\"pres\",\"skin\",\"test\",\"mass\",\"pedi\",\"age\",\"class\"]\n",
        "dataframe = read_csv(filename, names = names)\n",
        "array = dataframe.values\n",
        "\n",
        "X = array[:,0:8]\n",
        "Y = array[:,8]"
      ],
      "metadata": {
        "id": "a1h8J1edpmgg"
      },
      "execution_count": 3,
      "outputs": []
    },
    {
      "cell_type": "code",
      "source": [
        "num_folds = 10\n",
        "seed = 7"
      ],
      "metadata": {
        "id": "SCLbAXyWpwaO"
      },
      "execution_count": 4,
      "outputs": []
    },
    {
      "cell_type": "code",
      "source": [
        "# create an object to build the Model :\n",
        "\n",
        "kfold = KFold(n_splits = num_folds)\n",
        "model = LogisticRegression(max_iter = 400)\n",
        "results = cross_val_score(model, X, Y, cv = kfold)\n",
        "results"
      ],
      "metadata": {
        "colab": {
          "base_uri": "https://localhost:8080/"
        },
        "id": "Q9wjy1F4qC2V",
        "outputId": "9548c74d-ca85-4178-ac8c-f3ae24cbabe4"
      },
      "execution_count": 7,
      "outputs": [
        {
          "output_type": "execute_result",
          "data": {
            "text/plain": [
              "array([0.68831169, 0.81818182, 0.76623377, 0.68831169, 0.77922078,\n",
              "       0.79220779, 0.84415584, 0.83116883, 0.75      , 0.80263158])"
            ]
          },
          "metadata": {},
          "execution_count": 7
        }
      ]
    },
    {
      "cell_type": "code",
      "source": [
        "results.mean()*100"
      ],
      "metadata": {
        "colab": {
          "base_uri": "https://localhost:8080/"
        },
        "id": "w3D3YhdLqsKz",
        "outputId": "9557c5f1-28a9-46c9-d61a-73c7fd95b790"
      },
      "execution_count": 6,
      "outputs": [
        {
          "output_type": "execute_result",
          "data": {
            "text/plain": [
              "77.60423786739577"
            ]
          },
          "metadata": {},
          "execution_count": 6
        }
      ]
    },
    {
      "cell_type": "code",
      "source": [
        "results.std()*100 # std < 10 : datapoints are very close to eachother"
      ],
      "metadata": {
        "colab": {
          "base_uri": "https://localhost:8080/"
        },
        "id": "MRx-CiXDqv9e",
        "outputId": "e68626e6-2f50-4c81-fc03-f932359b0e75"
      },
      "execution_count": 8,
      "outputs": [
        {
          "output_type": "execute_result",
          "data": {
            "text/plain": [
              "5.157545262086822"
            ]
          },
          "metadata": {},
          "execution_count": 8
        }
      ]
    },
    {
      "cell_type": "markdown",
      "source": [
        "### **Accuracy of the Model is 77.60**"
      ],
      "metadata": {
        "id": "tb8WnEFyrSNw"
      }
    },
    {
      "cell_type": "code",
      "source": [],
      "metadata": {
        "id": "NYNCrV4IrH64"
      },
      "execution_count": null,
      "outputs": []
    },
    {
      "cell_type": "markdown",
      "source": [
        "# **Leave-One-Out-Cross-Validation :**"
      ],
      "metadata": {
        "id": "zqLgqTJ9r2Jy"
      }
    },
    {
      "cell_type": "code",
      "source": [
        "# import LOOCV lib :\n",
        "\n",
        "from pandas import read_csv\n",
        "from sklearn.model_selection import LeaveOneOut\n",
        "from sklearn.model_selection import cross_val_score\n",
        "from sklearn.linear_model import LogisticRegression"
      ],
      "metadata": {
        "id": "sVR1sReosAHv"
      },
      "execution_count": 9,
      "outputs": []
    },
    {
      "cell_type": "code",
      "source": [
        "# load the dataset :\n",
        "\n",
        "filename = \"pima-indians-diabetes.data.csv\"\n",
        "names = [\"preg\",\"plas\",\"pres\",\"skin\",\"test\",\"mass\",\"pedi\",\"age\",\"class\"]\n",
        "dataframe = read_csv(filename, names = names)\n",
        "array = dataframe.values\n",
        "\n",
        "X = array[:,0:8]\n",
        "Y = array[:,8]"
      ],
      "metadata": {
        "id": "gNT9nh2dsuHj"
      },
      "execution_count": 10,
      "outputs": []
    },
    {
      "cell_type": "code",
      "source": [
        "# create an object to build the Model :\n",
        "\n",
        "loocv = LeaveOneOut()\n",
        "model = LogisticRegression(max_iter = 300)\n",
        "results = cross_val_score(model, X, Y, cv = loocv)"
      ],
      "metadata": {
        "id": "u5wokrANsyyV"
      },
      "execution_count": 11,
      "outputs": []
    },
    {
      "cell_type": "code",
      "source": [
        "results.mean()*100"
      ],
      "metadata": {
        "colab": {
          "base_uri": "https://localhost:8080/"
        },
        "id": "--kXcxPKtOzB",
        "outputId": "b41a9140-070b-4484-a556-294e720b2d03"
      },
      "execution_count": 12,
      "outputs": [
        {
          "output_type": "execute_result",
          "data": {
            "text/plain": [
              "77.60416666666666"
            ]
          },
          "metadata": {},
          "execution_count": 12
        }
      ]
    },
    {
      "cell_type": "markdown",
      "source": [
        "### **Accuracy of the Model is 77.60**"
      ],
      "metadata": {
        "id": "rniihLWPtaQZ"
      }
    },
    {
      "cell_type": "code",
      "source": [],
      "metadata": {
        "id": "hXs_mI8xtXZS"
      },
      "execution_count": null,
      "outputs": []
    }
  ]
}