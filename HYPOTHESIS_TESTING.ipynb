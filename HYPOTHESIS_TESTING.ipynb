{
  "nbformat": 4,
  "nbformat_minor": 0,
  "metadata": {
    "colab": {
      "name": "HYPOTHESIS TESTING.ipynb",
      "provenance": [],
      "collapsed_sections": [],
      "authorship_tag": "ABX9TyOnqIO6xGu3a8IRJg++t5hS",
      "include_colab_link": true
    },
    "kernelspec": {
      "name": "python3",
      "display_name": "Python 3"
    },
    "language_info": {
      "name": "python"
    }
  },
  "cells": [
    {
      "cell_type": "markdown",
      "metadata": {
        "id": "view-in-github",
        "colab_type": "text"
      },
      "source": [
        "<a href=\"https://colab.research.google.com/github/rahulsait/ExcelR-codes/blob/main/HYPOTHESIS_TESTING.ipynb\" target=\"_parent\"><img src=\"https://colab.research.google.com/assets/colab-badge.svg\" alt=\"Open In Colab\"/></a>"
      ]
    },
    {
      "cell_type": "code",
      "execution_count": 24,
      "metadata": {
        "id": "XJ6xDcwOE50Y"
      },
      "outputs": [],
      "source": [
        "from scipy import stats"
      ]
    },
    {
      "cell_type": "code",
      "source": [
        "1 - stats.t.cdf(2.2, 79)"
      ],
      "metadata": {
        "colab": {
          "base_uri": "https://localhost:8080/"
        },
        "id": "RVV4j7-KeqbH",
        "outputId": "dd1a0ac7-e58c-4e61-87e7-8b8bb4e849c5"
      },
      "execution_count": 3,
      "outputs": [
        {
          "output_type": "execute_result",
          "data": {
            "text/plain": [
              "0.015364507770762481"
            ]
          },
          "metadata": {},
          "execution_count": 3
        }
      ]
    },
    {
      "cell_type": "code",
      "source": [
        "2*(1- stats.t.cdf(1.415, 49))"
      ],
      "metadata": {
        "colab": {
          "base_uri": "https://localhost:8080/"
        },
        "id": "-5hf8V08fNAp",
        "outputId": "1039a55a-4ced-4a37-d704-0e70866efe18"
      },
      "execution_count": 11,
      "outputs": [
        {
          "output_type": "execute_result",
          "data": {
            "text/plain": [
              "0.1633925092261692"
            ]
          },
          "metadata": {},
          "execution_count": 11
        }
      ]
    },
    {
      "cell_type": "markdown",
      "source": [
        "## **One - Sample and One tail t - test :**"
      ],
      "metadata": {
        "id": "waRUqOX695oN"
      }
    },
    {
      "cell_type": "markdown",
      "source": [
        "**Q ] An outbreak of Salmonella - related illness was attributed to ice - cream produced at a certain factory. Scientists measured the level of Salmonella in 9  randomly sampled batches of ice cream. The levels (in MPN/g) were :**\n",
        " 0.593, 0.142, 0.329, 0.691, 0.231, 0.793, 0.519, 0.392, 0.418\n",
        " **Is there evidence that the mean level of Salmonella in the ice cream is greater than 0.3 MPN/g ?**"
      ],
      "metadata": {
        "id": "rlmA42Zt-Iq-"
      }
    },
    {
      "cell_type": "code",
      "source": [
        " # Sample Size (n) = 9\n",
        " # Sample = 1\n",
        " # mu = 0.3\n",
        " # H0 <= 0.3 (If the level of Salmonella is less than 0.3 - no action is to be taken - illness is not attributed to the factory)\n",
        " # Ha > 0.3 (If the level of Salmonella is greater than 0.3 - action is to be taken - illness is attributed to the factory)\n",
        " # So it's a one-tail t test"
      ],
      "metadata": {
        "id": "VQbEGxLV5G5y"
      },
      "execution_count": 12,
      "outputs": []
    },
    {
      "cell_type": "code",
      "source": [
        "import numpy as np\n",
        "import pandas as pd\n",
        "import scipy\n",
        "from scipy import stats"
      ],
      "metadata": {
        "id": "A2xMCg4eHheY"
      },
      "execution_count": 29,
      "outputs": []
    },
    {
      "cell_type": "code",
      "source": [
        "# Creating an Array\n",
        "Data = pd.Series([ 0.593, 0.142, 0.329, 0.691, 0.231, 0.793, 0.519, 0.392, 0.418])"
      ],
      "metadata": {
        "id": "KdE7m7UfHssO"
      },
      "execution_count": 14,
      "outputs": []
    },
    {
      "cell_type": "code",
      "source": [
        "Data"
      ],
      "metadata": {
        "colab": {
          "base_uri": "https://localhost:8080/"
        },
        "id": "cKEhEYXAJI_L",
        "outputId": "853adcc4-c504-42a4-c7fc-8c5021188132"
      },
      "execution_count": 18,
      "outputs": [
        {
          "output_type": "execute_result",
          "data": {
            "text/plain": [
              "0    0.593\n",
              "1    0.142\n",
              "2    0.329\n",
              "3    0.691\n",
              "4    0.231\n",
              "5    0.793\n",
              "6    0.519\n",
              "7    0.392\n",
              "8    0.418\n",
              "dtype: float64"
            ]
          },
          "metadata": {},
          "execution_count": 18
        }
      ]
    },
    {
      "cell_type": "code",
      "source": [
        "scipy.stats.ttest_1samp(Data, 0.3) # by default is returns two tail P values"
      ],
      "metadata": {
        "colab": {
          "base_uri": "https://localhost:8080/"
        },
        "id": "2EIaWiWGIM0w",
        "outputId": "a0fbb61f-1886-4668-df4d-35cbf140d92d"
      },
      "execution_count": 30,
      "outputs": [
        {
          "output_type": "execute_result",
          "data": {
            "text/plain": [
              "Ttest_1sampResult(statistic=2.2050588385131595, pvalue=0.05853032968489765)"
            ]
          },
          "metadata": {},
          "execution_count": 30
        }
      ]
    },
    {
      "cell_type": "code",
      "source": [
        "p = scipy.stats.ttest_1samp(Data, 0.3)[1]"
      ],
      "metadata": {
        "id": "ZCTVhOUTKpgF"
      },
      "execution_count": 31,
      "outputs": []
    },
    {
      "cell_type": "code",
      "source": [
        "p_value = p/2 # so we have to divide it by 2"
      ],
      "metadata": {
        "id": "ywiVn0cwLFPT"
      },
      "execution_count": 32,
      "outputs": []
    },
    {
      "cell_type": "code",
      "source": [
        "p_value"
      ],
      "metadata": {
        "colab": {
          "base_uri": "https://localhost:8080/"
        },
        "id": "-nRrGRhwLIP5",
        "outputId": "45dc5c6e-27a4-4353-f32c-58cbff7792d2"
      },
      "execution_count": 33,
      "outputs": [
        {
          "output_type": "execute_result",
          "data": {
            "text/plain": [
              "0.029265164842448826"
            ]
          },
          "metadata": {},
          "execution_count": 33
        }
      ]
    },
    {
      "cell_type": "code",
      "source": [
        "# since P < alpha (0.05) == Reject the Null Hypothesis (H0)"
      ],
      "metadata": {
        "id": "Ey9Hzjd3LJdR"
      },
      "execution_count": 34,
      "outputs": []
    },
    {
      "cell_type": "code",
      "source": [
        "# Since we accept Ha - the level of Salmonella is greater than 0.3 - the factory is indeed responsible for the illness."
      ],
      "metadata": {
        "id": "s_XsDykNLzxp"
      },
      "execution_count": 35,
      "outputs": []
    },
    {
      "cell_type": "code",
      "source": [
        ""
      ],
      "metadata": {
        "id": "ibV7qL-SMWzC"
      },
      "execution_count": 35,
      "outputs": []
    },
    {
      "cell_type": "markdown",
      "source": [
        "# **Two Sample Two Tail test :**"
      ],
      "metadata": {
        "id": "8Zyc-TcNQUZK"
      }
    },
    {
      "cell_type": "markdown",
      "source": [
        "**Q ] 6 subjects were given a drug (treatment group) and an additional 6 subjects a placebo (control group). Their reaction time to a stimulus was measured (in ms). We want to perform a two - sample t -test for comparing the means of the treatment and control groups.**\n",
        "\n",
        "**Control : 91,87,99,77,88,91**\n",
        "**Treat : 101,110,103,93,99,104**"
      ],
      "metadata": {
        "id": "pMEIx7Q7Qkkf"
      }
    },
    {
      "cell_type": "code",
      "source": [
        "# Let mu1 be the mean of the population taking the drug\n",
        "# Let mu2 be the mean of the population taking the dummy drug\n",
        "\n",
        "# Ho - mu1 = mu2 (drug has no significance impact on the subjects)\n",
        "# Ha - mu1 =! mu2 (drug has an impact on the subjects)\n",
        "\n",
        "# Ho = mu1 - mu2 = 0\n",
        "# Ha = mu1 - mu2 =! 0\n",
        "\n",
        "import numpy as np\n",
        "import pandas as pd\n",
        "import scipy \n",
        "from scipy import stats"
      ],
      "metadata": {
        "id": "urv84qMxQjbM"
      },
      "execution_count": 36,
      "outputs": []
    },
    {
      "cell_type": "code",
      "source": [
        "Control = pd.Series([91,87,99,77,88,91])\n",
        "Treat = pd.Series([101,110,103,93,99,104])"
      ],
      "metadata": {
        "id": "RRICx4C6S6eA"
      },
      "execution_count": 37,
      "outputs": []
    },
    {
      "cell_type": "code",
      "source": [
        "stats.ttest_ind(Control, Treat) # we get two tail value by default"
      ],
      "metadata": {
        "colab": {
          "base_uri": "https://localhost:8080/"
        },
        "id": "YfhbBYyRTHrs",
        "outputId": "b1654ca6-563b-431c-8a9e-6abeb67b279c"
      },
      "execution_count": 38,
      "outputs": [
        {
          "output_type": "execute_result",
          "data": {
            "text/plain": [
              "Ttest_indResult(statistic=-3.445612673536487, pvalue=0.006272124350809803)"
            ]
          },
          "metadata": {},
          "execution_count": 38
        }
      ]
    },
    {
      "cell_type": "code",
      "source": [
        "p_value = stats.ttest_ind(Control, Treat)[1]"
      ],
      "metadata": {
        "id": "GV7Uo4yDTPnK"
      },
      "execution_count": 39,
      "outputs": []
    },
    {
      "cell_type": "code",
      "source": [
        "p_value # as it's a two tail test we need not divide the p value by 2"
      ],
      "metadata": {
        "colab": {
          "base_uri": "https://localhost:8080/"
        },
        "id": "ajbV5RsvTun_",
        "outputId": "cf0e284c-7507-4e0d-c966-55366bdb2e0e"
      },
      "execution_count": 40,
      "outputs": [
        {
          "output_type": "execute_result",
          "data": {
            "text/plain": [
              "0.006272124350809803"
            ]
          },
          "metadata": {},
          "execution_count": 40
        }
      ]
    },
    {
      "cell_type": "code",
      "source": [
        "# since p_value (0.006) < alpha (0.05) -- we reject H0"
      ],
      "metadata": {
        "id": "jVn5yh2vTwLB"
      },
      "execution_count": 41,
      "outputs": []
    },
    {
      "cell_type": "code",
      "source": [
        "# conclusion = The drug has a significant impact on the population unlike the placebo."
      ],
      "metadata": {
        "id": "sOERpJUiT_cT"
      },
      "execution_count": 42,
      "outputs": []
    },
    {
      "cell_type": "code",
      "source": [
        ""
      ],
      "metadata": {
        "id": "SNBIwYiyUQFN"
      },
      "execution_count": null,
      "outputs": []
    }
  ]
}