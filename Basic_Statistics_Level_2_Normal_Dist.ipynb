{
  "nbformat": 4,
  "nbformat_minor": 0,
  "metadata": {
    "colab": {
      "provenance": [],
      "authorship_tag": "ABX9TyMCHQ34DNPPirH/+1UK9bTh",
      "include_colab_link": true
    },
    "kernelspec": {
      "name": "python3",
      "display_name": "Python 3"
    },
    "language_info": {
      "name": "python"
    }
  },
  "cells": [
    {
      "cell_type": "markdown",
      "metadata": {
        "id": "view-in-github",
        "colab_type": "text"
      },
      "source": [
        "<a href=\"https://colab.research.google.com/github/rahulsait/ExcelR-codes/blob/main/Basic_Statistics_Level_2_Normal_Dist.ipynb\" target=\"_parent\"><img src=\"https://colab.research.google.com/assets/colab-badge.svg\" alt=\"Open In Colab\"/></a>"
      ]
    },
    {
      "cell_type": "markdown",
      "source": [
        "**Q] The time required for servicing transmissions is normally distributed with mean = 45 min and pop. std = 8 min. The service manager plans to have work begin on the transmission of a customer's car 10min after the car is dropped off and the customer is told that the car will be ready within 1 hour from the drop off. What is the probability that the service manager cannot meet this commitment ?**"
      ],
      "metadata": {
        "id": "Bcvq2jr3ZRvJ"
      }
    },
    {
      "cell_type": "markdown",
      "source": [
        "The population mean is 45 min\n",
        "pop. std is 8 min\n",
        "Sample mean is 1 hour - 10 min = 50 min\n",
        "\n",
        "since the pop. std is given in the data, probability calculation for Normal Dist :"
      ],
      "metadata": {
        "id": "O3pNl4eUahot"
      }
    },
    {
      "cell_type": "code",
      "execution_count": 4,
      "metadata": {
        "id": "sYWRag0cYuwl"
      },
      "outputs": [],
      "source": [
        "from scipy import stats"
      ]
    },
    {
      "cell_type": "code",
      "source": [
        "stats.norm.cdf(50, loc = 45, scale = 8)"
      ],
      "metadata": {
        "colab": {
          "base_uri": "https://localhost:8080/"
        },
        "id": "kmldDuN-bhC3",
        "outputId": "24583ecc-7124-4225-d729-8637c815edc6"
      },
      "execution_count": 2,
      "outputs": [
        {
          "output_type": "execute_result",
          "data": {
            "text/plain": [
              "0.7340144709512995"
            ]
          },
          "metadata": {},
          "execution_count": 2
        }
      ]
    },
    {
      "cell_type": "markdown",
      "source": [
        "**This is the probability that he completes his work with in the commitment \n",
        "so, we subtract the value from 1**"
      ],
      "metadata": {
        "id": "uwT4TSxQbuuD"
      }
    },
    {
      "cell_type": "code",
      "source": [
        "1 - stats.norm.cdf(50, loc = 45, scale = 8)"
      ],
      "metadata": {
        "colab": {
          "base_uri": "https://localhost:8080/"
        },
        "id": "aRgEKippbqPJ",
        "outputId": "53ec55e7-c6f5-4ea6-e2b0-6012cada7bfc"
      },
      "execution_count": 3,
      "outputs": [
        {
          "output_type": "execute_result",
          "data": {
            "text/plain": [
              "0.26598552904870054"
            ]
          },
          "metadata": {},
          "execution_count": 3
        }
      ]
    },
    {
      "cell_type": "markdown",
      "source": [
        "**Probability that the service manager cannot meet this commitment is 26.5 %**"
      ],
      "metadata": {
        "id": "zTADpxR8cJeS"
      }
    },
    {
      "cell_type": "markdown",
      "source": [
        "**Q] A training program for employees under the age of 30 at the center would be expected to attract about 36 employees. \n",
        "State whether True or False.**"
      ],
      "metadata": {
        "id": "s_NAmChMs2_n"
      }
    },
    {
      "cell_type": "markdown",
      "source": [
        "x = 30\n",
        "\n",
        "pop.mean = 38\n",
        "\n",
        "pop.std = 6"
      ],
      "metadata": {
        "id": "-iLAnpfAtfk5"
      }
    },
    {
      "cell_type": "code",
      "source": [
        "stats.norm.cdf(30, loc = 38, scale = 6)*400"
      ],
      "metadata": {
        "colab": {
          "base_uri": "https://localhost:8080/"
        },
        "id": "SNgJJYxicHz4",
        "outputId": "8a25e9c5-1939-4bf2-da27-872494732e18"
      },
      "execution_count": 6,
      "outputs": [
        {
          "output_type": "execute_result",
          "data": {
            "text/plain": [
              "36.484487890347154"
            ]
          },
          "metadata": {},
          "execution_count": 6
        }
      ]
    },
    {
      "cell_type": "code",
      "source": [],
      "metadata": {
        "id": "xo81QbeMsscJ"
      },
      "execution_count": null,
      "outputs": []
    }
  ]
}