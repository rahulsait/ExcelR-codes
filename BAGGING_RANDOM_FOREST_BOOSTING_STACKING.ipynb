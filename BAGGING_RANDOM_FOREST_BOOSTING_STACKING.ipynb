{
  "nbformat": 4,
  "nbformat_minor": 0,
  "metadata": {
    "colab": {
      "provenance": [],
      "collapsed_sections": [],
      "authorship_tag": "ABX9TyNJsCC6la1nV1kNC8HXCmKJ",
      "include_colab_link": true
    },
    "kernelspec": {
      "name": "python3",
      "display_name": "Python 3"
    },
    "language_info": {
      "name": "python"
    }
  },
  "cells": [
    {
      "cell_type": "markdown",
      "metadata": {
        "id": "view-in-github",
        "colab_type": "text"
      },
      "source": [
        "<a href=\"https://colab.research.google.com/github/rahulsait/ExcelR-codes/blob/main/BAGGING_RANDOM_FOREST_BOOSTING_STACKING.ipynb\" target=\"_parent\"><img src=\"https://colab.research.google.com/assets/colab-badge.svg\" alt=\"Open In Colab\"/></a>"
      ]
    },
    {
      "cell_type": "markdown",
      "source": [
        "# **Bagging :**"
      ],
      "metadata": {
        "id": "ixWhj4jR2XL2"
      }
    },
    {
      "cell_type": "code",
      "execution_count": 1,
      "metadata": {
        "id": "D7JBklMI0uaE"
      },
      "outputs": [],
      "source": [
        "# Bagged Decision Trees for Classification :\n",
        "# importing Bagging lib :\n",
        "\n",
        "from pandas import read_csv\n",
        "from sklearn.model_selection import KFold\n",
        "from sklearn.model_selection import cross_val_score\n",
        "from sklearn.ensemble import BaggingClassifier\n",
        "from sklearn.tree import DecisionTreeClassifier"
      ]
    },
    {
      "cell_type": "code",
      "source": [
        "# Load the dataset :\n",
        "\n",
        "filename = \"pima-indians-diabetes.data.csv\"\n",
        "names = [\"preg\",\"plas\",\"pres\",\"skin\",\"test\",\"mass\",\"pedi\",\"age\",\"class\"]\n",
        "dataframe = read_csv(filename, names = names)\n",
        "array = dataframe.values\n",
        "X = array[:,0:8]\n",
        "Y = array[:,8]\n",
        "seed = 7"
      ],
      "metadata": {
        "id": "KrTWlzi53Q7-"
      },
      "execution_count": 5,
      "outputs": []
    },
    {
      "cell_type": "code",
      "source": [
        "kfold = KFold(n_splits=10) # shuffle = False : we get same accuracy every time\n",
        "cart = DecisionTreeClassifier()\n",
        "num_trees = 100\n",
        "\n",
        "model = BaggingClassifier(base_estimator = cart, n_estimators = num_trees, random_state = seed)\n",
        "results = cross_val_score(model, X, Y, cv = kfold)\n",
        "print(results.mean())"
      ],
      "metadata": {
        "colab": {
          "base_uri": "https://localhost:8080/"
        },
        "id": "sExmS3FK6AgZ",
        "outputId": "dd0c9bd8-c49e-4aae-ee5e-0a95340a3e44"
      },
      "execution_count": 25,
      "outputs": [
        {
          "output_type": "stream",
          "name": "stdout",
          "text": [
            "0.7720437457279563\n"
          ]
        }
      ]
    },
    {
      "cell_type": "code",
      "source": [
        "kfold = KFold(n_splits=10, shuffle = True) # shuffle = True : we get different accuracies\n",
        "cart = DecisionTreeClassifier()\n",
        "num_trees = 100\n",
        "\n",
        "model = BaggingClassifier(base_estimator = cart, n_estimators = num_trees, random_state = seed)\n",
        "results = cross_val_score(model, X, Y, cv = kfold)\n",
        "print(results.mean())"
      ],
      "metadata": {
        "colab": {
          "base_uri": "https://localhost:8080/"
        },
        "id": "E4v-eoLg6vW7",
        "outputId": "4b123315-7210-4600-958c-ad0a1c818139"
      },
      "execution_count": 15,
      "outputs": [
        {
          "output_type": "stream",
          "name": "stdout",
          "text": [
            "0.7681818181818183\n"
          ]
        }
      ]
    },
    {
      "cell_type": "code",
      "source": [],
      "metadata": {
        "id": "VF0GlElh83rK"
      },
      "execution_count": null,
      "outputs": []
    },
    {
      "cell_type": "markdown",
      "source": [
        "# **Random Forest Classification :**"
      ],
      "metadata": {
        "id": "2xUuKetY9HgR"
      }
    },
    {
      "cell_type": "code",
      "source": [
        "# import the RFC lib :\n",
        "\n",
        "from pandas import read_csv\n",
        "from sklearn.model_selection import KFold\n",
        "from sklearn.model_selection import cross_val_score\n",
        "from sklearn.ensemble import RandomForestClassifier"
      ],
      "metadata": {
        "id": "yvjW6UtM9MUF"
      },
      "execution_count": 16,
      "outputs": []
    },
    {
      "cell_type": "code",
      "source": [
        "# dividing the data into X and Y var :\n",
        "\n",
        "X = array[:,0:8]\n",
        "Y = array[:,8]"
      ],
      "metadata": {
        "id": "vghzpp919fgV"
      },
      "execution_count": 17,
      "outputs": []
    },
    {
      "cell_type": "code",
      "source": [
        "num_trees = 100\n",
        "max_features = 3\n",
        "kfold = KFold(n_splits = 10, shuffle = True)\n",
        "model = RandomForestClassifier(n_estimators = num_trees, max_features = max_features, random_state = seed)\n",
        "results = cross_val_score(model, X, Y, cv = kfold)\n",
        "print(results.mean())"
      ],
      "metadata": {
        "colab": {
          "base_uri": "https://localhost:8080/"
        },
        "id": "BfxPzJ-L95S3",
        "outputId": "d9f59aac-1564-4eed-f027-9d10be92da41"
      },
      "execution_count": 32,
      "outputs": [
        {
          "output_type": "stream",
          "name": "stdout",
          "text": [
            "0.7592276144907724\n"
          ]
        }
      ]
    },
    {
      "cell_type": "code",
      "source": [],
      "metadata": {
        "id": "QDYoeDL--tSz"
      },
      "execution_count": null,
      "outputs": []
    },
    {
      "cell_type": "markdown",
      "source": [
        "# **Boosting :**"
      ],
      "metadata": {
        "id": "nyZYAbAo-Q2O"
      }
    },
    {
      "cell_type": "code",
      "source": [
        "# AdaBoost Classification :\n",
        "\n",
        "# import AdaBoost lib :\n",
        "\n",
        "\n",
        "from pandas import read_csv\n",
        "from sklearn.model_selection import KFold\n",
        "from sklearn.model_selection import cross_val_score\n",
        "from sklearn.ensemble import AdaBoostClassifier\n"
      ],
      "metadata": {
        "id": "J4DneZFH-2zf"
      },
      "execution_count": 1,
      "outputs": []
    },
    {
      "cell_type": "code",
      "source": [
        "# load the dataset :\n",
        "\n",
        "filename = \"pima-indians-diabetes.data.csv\"\n",
        "names = [\"preg\",\"plas\",\"pres\",\"skin\",\"test\",\"mass\",\"pedi\",\"age\",\"class\"]\n",
        "dataframe = read_csv(filename, names = names)\n",
        "array = dataframe.values\n",
        "X = array[:,0:8]\n",
        "Y = array[:,8]"
      ],
      "metadata": {
        "id": "KrQ0Qw8nAN9R"
      },
      "execution_count": 2,
      "outputs": []
    },
    {
      "cell_type": "code",
      "source": [
        "num_trees = 10\n",
        "seed = 7\n",
        "kfold = KFold(n_splits = 10, shuffle = True, random_state = seed)\n",
        "model = AdaBoostClassifier(n_estimators = num_trees, random_state = seed)\n",
        "results = cross_val_score(model, X, Y, cv = kfold)\n",
        "print(results.mean())\n",
        "                        "
      ],
      "metadata": {
        "colab": {
          "base_uri": "https://localhost:8080/"
        },
        "id": "EVvlZPHfAvP4",
        "outputId": "057dcd8e-4e47-4dfe-a609-0cdd928b0db1"
      },
      "execution_count": 12,
      "outputs": [
        {
          "output_type": "stream",
          "name": "stdout",
          "text": [
            "0.7669685577580314\n"
          ]
        }
      ]
    },
    {
      "cell_type": "code",
      "source": [],
      "metadata": {
        "id": "TaRnQvhmBmrc"
      },
      "execution_count": null,
      "outputs": []
    },
    {
      "cell_type": "markdown",
      "source": [
        "# **Stacking :**"
      ],
      "metadata": {
        "id": "WsZMrd6FC_7b"
      }
    },
    {
      "cell_type": "code",
      "source": [
        "# Using multiple model classifiers :\n",
        "\n",
        "# import libs of resp models :\n",
        "\n",
        "from pandas import read_csv\n",
        "from sklearn.model_selection import KFold\n",
        "from sklearn.model_selection import cross_val_score\n",
        "# import Logistic Regression lib :\n",
        "from sklearn.linear_model import LogisticRegression\n",
        "# import Decision Tree lib :\n",
        "from sklearn.tree import DecisionTreeClassifier\n",
        "# import Support Vector Classifier lib :\n",
        "from sklearn.svm import SVC\n",
        "from sklearn.ensemble import VotingClassifier"
      ],
      "metadata": {
        "id": "GeejdLXKDDhe"
      },
      "execution_count": 13,
      "outputs": []
    },
    {
      "cell_type": "code",
      "source": [
        "# load the dataset :\n",
        "\n",
        "filename = \"pima-indians-diabetes.data.csv\"\n",
        "names = [\"preg\",\"plas\",\"pres\",\"skin\",\"test\",\"mass\",\"pedi\",\"age\",\"class\"]\n",
        "dataframe = read_csv(filename, names = names)\n",
        "array = dataframe.values\n",
        "X = array[:,0:8]\n",
        "Y = array[:,8]"
      ],
      "metadata": {
        "id": "LPtdBN2mHFVZ"
      },
      "execution_count": 14,
      "outputs": []
    },
    {
      "cell_type": "code",
      "source": [
        "kfold = KFold(n_splits = 10, shuffle = True, random_state = 7)"
      ],
      "metadata": {
        "id": "h4pw6KTHHdC0"
      },
      "execution_count": 17,
      "outputs": []
    },
    {
      "cell_type": "code",
      "source": [
        "# create the sub models :\n",
        "\n",
        "estimators = []\n",
        "model1 = LogisticRegression(max_iter = 500)\n",
        "estimators.append((\"logistic\", model1))\n",
        "\n",
        "model2 = DecisionTreeClassifier()\n",
        "estimators.append((\"cart\", model2))\n",
        "\n",
        "model3 = SVC()\n",
        "estimators.append((\"svm\", model3))"
      ],
      "metadata": {
        "id": "hA-ni3HdIdY6"
      },
      "execution_count": 18,
      "outputs": []
    },
    {
      "cell_type": "code",
      "source": [
        "# create the ensemble model :\n",
        "\n",
        "ensemble = VotingClassifier(estimators)\n",
        "results = cross_val_score(ensemble, X, Y, cv = kfold)\n",
        "print(results.mean())"
      ],
      "metadata": {
        "colab": {
          "base_uri": "https://localhost:8080/"
        },
        "id": "EI99xBSyJ7zT",
        "outputId": "91ada08f-e3e7-4caf-85ba-c2b18a20b839"
      },
      "execution_count": 19,
      "outputs": [
        {
          "output_type": "stream",
          "name": "stdout",
          "text": [
            "0.773479152426521\n"
          ]
        }
      ]
    },
    {
      "cell_type": "code",
      "source": [],
      "metadata": {
        "id": "GrgHYKcLLEKB"
      },
      "execution_count": null,
      "outputs": []
    }
  ]
}