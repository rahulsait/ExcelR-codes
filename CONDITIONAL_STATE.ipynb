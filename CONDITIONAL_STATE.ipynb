{
  "nbformat": 4,
  "nbformat_minor": 0,
  "metadata": {
    "colab": {
      "provenance": [],
      "authorship_tag": "ABX9TyNAc80iQaNP3XQbqkK2GcJz",
      "include_colab_link": true
    },
    "kernelspec": {
      "name": "python3",
      "display_name": "Python 3"
    },
    "language_info": {
      "name": "python"
    }
  },
  "cells": [
    {
      "cell_type": "markdown",
      "metadata": {
        "id": "view-in-github",
        "colab_type": "text"
      },
      "source": [
        "<a href=\"https://colab.research.google.com/github/rahulsait/ExcelR-codes/blob/main/CONDITIONAL_STATE.ipynb\" target=\"_parent\"><img src=\"https://colab.research.google.com/assets/colab-badge.svg\" alt=\"Open In Colab\"/></a>"
      ]
    },
    {
      "cell_type": "markdown",
      "source": [
        "#**Conditional Statements and Loops**\n"
      ],
      "metadata": {
        "id": "rq6Vu3_MMkwb"
      }
    },
    {
      "cell_type": "code",
      "source": [],
      "metadata": {
        "id": "1W4lXWZnEM-l"
      },
      "execution_count": null,
      "outputs": []
    },
    {
      "cell_type": "code",
      "source": [
        "name = input(\"User's first name : \")\n",
        "print(len(name))"
      ],
      "metadata": {
        "colab": {
          "base_uri": "https://localhost:8080/"
        },
        "outputId": "ced81088-98b9-416b-d3cb-f2d64fd7e7ae",
        "id": "6-AE8xMHEOJF"
      },
      "execution_count": null,
      "outputs": [
        {
          "output_type": "stream",
          "name": "stdout",
          "text": [
            "User's first name : Rahul\n",
            "5\n"
          ]
        }
      ]
    },
    {
      "cell_type": "code",
      "source": [
        "name = input(\"User's first name : \")\n",
        "print(len(name))"
      ],
      "metadata": {
        "colab": {
          "base_uri": "https://localhost:8080/"
        },
        "id": "WfX2vHkdMjNu",
        "outputId": "ced81088-98b9-416b-d3cb-f2d64fd7e7ae"
      },
      "execution_count": null,
      "outputs": [
        {
          "output_type": "stream",
          "name": "stdout",
          "text": [
            "User's first name : Rahul\n",
            "5\n"
          ]
        }
      ]
    },
    {
      "cell_type": "code",
      "source": [
        "age = 20\n",
        "if age >= 20 :\n",
        "  print(True)\n",
        "print(\"Falsuuuuuuu\")"
      ],
      "metadata": {
        "colab": {
          "base_uri": "https://localhost:8080/"
        },
        "id": "y3DjzpnjMjLm",
        "outputId": "f54e119a-e0fc-4b40-cd21-6f0ead7b9088"
      },
      "execution_count": null,
      "outputs": [
        {
          "output_type": "stream",
          "name": "stdout",
          "text": [
            "True\n",
            "Falsuuuuuuu\n"
          ]
        }
      ]
    },
    {
      "cell_type": "code",
      "source": [
        "if(True) :\n",
        "  print(\"sure\")\n",
        "  print(\"thing\")"
      ],
      "metadata": {
        "colab": {
          "base_uri": "https://localhost:8080/"
        },
        "id": "QbLVs4eeMjJg",
        "outputId": "c96fe035-3e04-429c-fe6d-be2b283078ff"
      },
      "execution_count": null,
      "outputs": [
        {
          "output_type": "stream",
          "name": "stdout",
          "text": [
            "sure\n",
            "thing\n"
          ]
        }
      ]
    },
    {
      "cell_type": "code",
      "source": [
        "if(False) :\n",
        "  print(\"nope\")\n",
        "  print(\"never\")"
      ],
      "metadata": {
        "id": "o868gAzPMjHO"
      },
      "execution_count": null,
      "outputs": []
    },
    {
      "cell_type": "code",
      "source": [
        "light = \"green\"\n",
        "\n",
        "if light == \"red\" :\n",
        "  print(\"Halt\")\n",
        "\n",
        "if light == \"yellow\" :\n",
        "  print(\"Wait\")\n",
        "\n",
        "if light == \"green\" :\n",
        "  print(\"Go\")"
      ],
      "metadata": {
        "colab": {
          "base_uri": "https://localhost:8080/"
        },
        "id": "IN9J7I1gMjE2",
        "outputId": "37d748df-a2ef-4ab1-c9d0-33a8d130f9a2"
      },
      "execution_count": null,
      "outputs": [
        {
          "output_type": "stream",
          "name": "stdout",
          "text": [
            "Go\n"
          ]
        }
      ]
    },
    {
      "cell_type": "code",
      "source": [
        "num = 5\n",
        "if num < 10 :\n",
        "  print(num)\n",
        "else :\n",
        "  print(\"more than 10\")"
      ],
      "metadata": {
        "colab": {
          "base_uri": "https://localhost:8080/"
        },
        "id": "zVJZrCP9MjCO",
        "outputId": "d48025fc-793b-4843-8555-add118b85e2b"
      },
      "execution_count": null,
      "outputs": [
        {
          "output_type": "stream",
          "name": "stdout",
          "text": [
            "5\n"
          ]
        }
      ]
    },
    {
      "cell_type": "code",
      "source": [
        "num = 5\n",
        "if num > 10 :\n",
        "  print(num)\n",
        "else :\n",
        "  print(\"more than 10\")"
      ],
      "metadata": {
        "colab": {
          "base_uri": "https://localhost:8080/"
        },
        "id": "_O83F71wMjAJ",
        "outputId": "2a0fca0f-4ae1-4439-82a4-603cb47afd94"
      },
      "execution_count": null,
      "outputs": [
        {
          "output_type": "stream",
          "name": "stdout",
          "text": [
            "more than 10\n"
          ]
        }
      ]
    },
    {
      "cell_type": "code",
      "source": [
        "marks = int(input(\"Enter the marks : \"))\n",
        "if marks >= 90 :\n",
        "  print(\"A grade\")\n",
        "elif marks >= 80 and marks < 90 :\n",
        "  print(\"B grade\")\n",
        "elif marks >= 70 and marks < 80 :\n",
        "  print(\"C grade\")\n",
        "elif marks >= 60 and marks < 70 :\n",
        "  print(\"D grade\")\n",
        "else :\n",
        "  print(\"F\")\n"
      ],
      "metadata": {
        "colab": {
          "base_uri": "https://localhost:8080/"
        },
        "id": "llTVXXQHMi99",
        "outputId": "8be50fee-6a39-4676-8c98-f1905fd00fb1"
      },
      "execution_count": null,
      "outputs": [
        {
          "output_type": "stream",
          "name": "stdout",
          "text": [
            "Enter the marks : 65\n",
            "D grade\n"
          ]
        }
      ]
    },
    {
      "cell_type": "code",
      "source": [
        "marks = int(input(\"Enter the marks : \"))\n",
        "if marks >= 90 :\n",
        "  print(\"A grade\")\n",
        "elif marks >= 80 and marks < 90 :\n",
        "  print(\"B grade\")\n",
        "elif marks >= 70 and marks < 80 :\n",
        "  print(\"C grade\")\n",
        "elif marks >= 60 and marks < 70 :\n",
        "  print(\"D grade\")\n",
        "else :\n",
        "  print(\"F\")"
      ],
      "metadata": {
        "colab": {
          "base_uri": "https://localhost:8080/"
        },
        "id": "eHjxf9rOMibF",
        "outputId": "ec08898d-42ff-4978-ad6f-94df59e57758"
      },
      "execution_count": null,
      "outputs": [
        {
          "output_type": "stream",
          "name": "stdout",
          "text": [
            "Enter the marks : 99\n",
            "A grade\n"
          ]
        }
      ]
    },
    {
      "cell_type": "code",
      "execution_count": null,
      "metadata": {
        "colab": {
          "base_uri": "https://localhost:8080/"
        },
        "id": "nJE6rxz6McvX",
        "outputId": "2a673e4d-cf85-4648-e0e0-5e41a756e447"
      },
      "outputs": [
        {
          "output_type": "stream",
          "name": "stdout",
          "text": [
            "100 is greater than 50\n",
            "100 is smaller than 200\n"
          ]
        }
      ],
      "source": [
        "num = 100\n",
        "if num > 50 :\n",
        "  print(f\"{num} is greater than 50\")\n",
        "if num < 200 :\n",
        "  print(f\"{num} is smaller than 200\")\n",
        "else :\n",
        "  print(\"No value\")"
      ]
    },
    {
      "cell_type": "code",
      "source": [
        "num = 300\n",
        "if num > 50 :\n",
        "  print(f\"{num} is greater than 50\")\n",
        "if num < 200 :\n",
        "  print(f\"{num} is smaller than 200\")\n"
      ],
      "metadata": {
        "colab": {
          "base_uri": "https://localhost:8080/"
        },
        "id": "mNLiYtUXsXEE",
        "outputId": "c7fe5d21-be5d-432c-8d95-a3501bab8a46"
      },
      "execution_count": null,
      "outputs": [
        {
          "output_type": "stream",
          "name": "stdout",
          "text": [
            "300 is greater than 50\n"
          ]
        }
      ]
    },
    {
      "cell_type": "code",
      "source": [
        "num = 40\n",
        "if num > 50 :\n",
        "  print(f\"{num} is greater than 50\")\n",
        "if num < 200 :\n",
        "  print(f\"{num} is smaller than 200\")\n",
        "else :\n",
        "  print(\"No value\")"
      ],
      "metadata": {
        "colab": {
          "base_uri": "https://localhost:8080/"
        },
        "id": "IhD-LNhOsXBP",
        "outputId": "5fafac43-2971-46d0-a297-c23365a8b63e"
      },
      "execution_count": null,
      "outputs": [
        {
          "output_type": "stream",
          "name": "stdout",
          "text": [
            "40 is smaller than 200\n"
          ]
        }
      ]
    },
    {
      "cell_type": "code",
      "source": [
        "num = 100\n",
        "if num > 50 :\n",
        "  print(f\"{num} is greater than 50\")\n",
        "  if num < 200 :\n",
        "    print(f\"{num} is smaller than 200\")\n"
      ],
      "metadata": {
        "colab": {
          "base_uri": "https://localhost:8080/"
        },
        "id": "t11u90essW-3",
        "outputId": "eb1dc924-14c9-4af8-da12-8a00d90f3f7c"
      },
      "execution_count": null,
      "outputs": [
        {
          "output_type": "stream",
          "name": "stdout",
          "text": [
            "100 is greater than 50\n",
            "100 is smaller than 200\n"
          ]
        }
      ]
    },
    {
      "cell_type": "code",
      "source": [
        "num = 100\n",
        "if num > 50 :\n",
        "  if num < 200 :\n",
        "    print(f\"{num} is smaller than 200\")"
      ],
      "metadata": {
        "colab": {
          "base_uri": "https://localhost:8080/"
        },
        "id": "O2QKsbR2sW8P",
        "outputId": "96b9720e-73ad-4c4f-8b60-054aa40cb65a"
      },
      "execution_count": null,
      "outputs": [
        {
          "output_type": "stream",
          "name": "stdout",
          "text": [
            "100 is smaller than 200\n"
          ]
        }
      ]
    },
    {
      "cell_type": "code",
      "source": [
        "num = 100\n",
        "if num > 50 and num < 200 :\n",
        "  print(f\"{num} is greater than 50 and smaller than 200.\")"
      ],
      "metadata": {
        "colab": {
          "base_uri": "https://localhost:8080/"
        },
        "id": "MkZci1pSsW56",
        "outputId": "357df3ad-4e92-4e1d-e830-b144e50c31cf"
      },
      "execution_count": null,
      "outputs": [
        {
          "output_type": "stream",
          "name": "stdout",
          "text": [
            "100 is greater than 50 and smaller than 200.\n"
          ]
        }
      ]
    },
    {
      "cell_type": "code",
      "source": [
        "age = 20\n",
        "if age >= 18 :\n",
        "  print(\"eligible to drive\")\n",
        "  if age >= 90 :\n",
        "    print(\"not eligible to drive\")\n",
        "  else :\n",
        "    print(\"eligible to drive\")\n",
        "else :\n",
        "  print(\"not eligible to drive\")"
      ],
      "metadata": {
        "colab": {
          "base_uri": "https://localhost:8080/"
        },
        "id": "93OP4v1KsW3V",
        "outputId": "61993951-cc85-46e7-cd20-45a6b6b00ac9"
      },
      "execution_count": null,
      "outputs": [
        {
          "output_type": "stream",
          "name": "stdout",
          "text": [
            "eligible to drive\n",
            "eligible to drive\n"
          ]
        }
      ]
    },
    {
      "cell_type": "code",
      "source": [
        "age = 10\n",
        "if age >= 18 :\n",
        "  if age >= 90 :\n",
        "    print(\"not eligible to drive\")\n",
        "  else :\n",
        "    print(\"eligible to drive\")\n",
        "else :\n",
        "  print(\"not eligible to drive\")"
      ],
      "metadata": {
        "colab": {
          "base_uri": "https://localhost:8080/"
        },
        "id": "1B9yvBhUsW1N",
        "outputId": "a3fc032e-2ecc-4a6b-dd20-83cbce701dfb"
      },
      "execution_count": null,
      "outputs": [
        {
          "output_type": "stream",
          "name": "stdout",
          "text": [
            "not eligible to drive\n"
          ]
        }
      ]
    },
    {
      "cell_type": "code",
      "source": [
        "age = 99\n",
        "if age >= 18 :\n",
        "  if age >= 90 :\n",
        "    print(\"not eligible to drive\")\n",
        "  else :\n",
        "    print(\"eligible to drive\")\n",
        "else :\n",
        "  print(\"not eligible to drive\")"
      ],
      "metadata": {
        "colab": {
          "base_uri": "https://localhost:8080/"
        },
        "id": "3IbcmHU_sWy4",
        "outputId": "10068468-a696-46b7-b512-9b0a5c612b2e"
      },
      "execution_count": null,
      "outputs": [
        {
          "output_type": "stream",
          "name": "stdout",
          "text": [
            "not eligible to drive\n"
          ]
        }
      ]
    },
    {
      "cell_type": "code",
      "source": [
        "num = int(input(\"Enter a number : \"))\n",
        "if num % 2 == 0 :\n",
        "  print(f\"{num} is even\")\n",
        "else :\n",
        "  print(f\"{num} is odd\")"
      ],
      "metadata": {
        "colab": {
          "base_uri": "https://localhost:8080/"
        },
        "id": "u134FOoXsWwR",
        "outputId": "609c68f7-a388-43b2-edc6-2bbf41ff0831"
      },
      "execution_count": null,
      "outputs": [
        {
          "output_type": "stream",
          "name": "stdout",
          "text": [
            "Enter a number : 5\n",
            "5 is odd\n"
          ]
        }
      ]
    },
    {
      "cell_type": "code",
      "source": [
        "num = int(input(\"Enter a number : \"))\n",
        "if num % 2 == 0 :\n",
        "  print(f\"{num} is even\")\n",
        "else :\n",
        "  print(f\"{num} is odd\")"
      ],
      "metadata": {
        "colab": {
          "base_uri": "https://localhost:8080/"
        },
        "id": "dj6V4xTAsWuM",
        "outputId": "1ae0b5cb-3870-41d4-8d71-0a89ed672779"
      },
      "execution_count": null,
      "outputs": [
        {
          "output_type": "stream",
          "name": "stdout",
          "text": [
            "Enter a number : 4\n",
            "4 is even\n"
          ]
        }
      ]
    },
    {
      "cell_type": "code",
      "source": [
        "num1 = int(input(\"1st num : \"))\n",
        "num2 = int(input(\"2nd num : \"))\n",
        "num3 = int(input(\"3rd num : \"))\n",
        "\n",
        "if num1 > num2 and num1 > num3 :\n",
        "  print(f\"{num1} is the greatest num\")\n",
        "elif num2 > num3 :\n",
        "  print(f\"{num2} is the greatest num\")\n",
        "else :\n",
        "  print(f\"{num3} is the greatest num\")\n"
      ],
      "metadata": {
        "colab": {
          "base_uri": "https://localhost:8080/"
        },
        "id": "5_dcSs_wsWrn",
        "outputId": "45e61831-fcda-4bc8-861b-d600846a6430"
      },
      "execution_count": null,
      "outputs": [
        {
          "output_type": "stream",
          "name": "stdout",
          "text": [
            "1st num : 20\n",
            "2nd num : 15\n",
            "3rd num : 5\n",
            "20 is the greatest num\n"
          ]
        }
      ]
    },
    {
      "cell_type": "code",
      "source": [
        "num1 = int(input(\"1st num : \"))\n",
        "num2 = int(input(\"2nd num : \"))\n",
        "num3 = int(input(\"3rd num : \"))\n",
        "\n",
        "if num1 > num2 and num1 > num3 :\n",
        "  print(f\"{num1} is the greatest num\")\n",
        "elif num2 > num3 :\n",
        "  print(f\"{num2} is the greatest num\")\n",
        "else :\n",
        "  print(f\"{num3} is the greatest num\")"
      ],
      "metadata": {
        "colab": {
          "base_uri": "https://localhost:8080/"
        },
        "id": "g4r61yxhsWpf",
        "outputId": "cad180c1-df65-4984-d681-b716ac502f71"
      },
      "execution_count": null,
      "outputs": [
        {
          "output_type": "stream",
          "name": "stdout",
          "text": [
            "1st num : 10\n",
            "2nd num : 20\n",
            "3rd num : 15\n",
            "20 is the greatest num\n"
          ]
        }
      ]
    },
    {
      "cell_type": "code",
      "source": [
        "num1 = int(input(\"1st num : \"))\n",
        "num2 = int(input(\"2nd num : \"))\n",
        "num3 = int(input(\"3rd num : \"))\n",
        "\n",
        "if num1 > num2 and num1 > num3 :\n",
        "  print(f\"{num1} is the greatest num\")\n",
        "elif num2 > num3 :\n",
        "  print(f\"{num2} is the greatest num\")\n",
        "else :\n",
        "  print(f\"{num3} is the greatest num\")"
      ],
      "metadata": {
        "colab": {
          "base_uri": "https://localhost:8080/"
        },
        "id": "g6Ps5rmGsWnK",
        "outputId": "a9ce29cf-011b-4305-dcca-c718259c78ee"
      },
      "execution_count": null,
      "outputs": [
        {
          "output_type": "stream",
          "name": "stdout",
          "text": [
            "1st num : 20\n",
            "2nd num : 10\n",
            "3rd num : 30\n",
            "30 is the greatest num\n"
          ]
        }
      ]
    },
    {
      "cell_type": "code",
      "source": [
        "num1 = int(input(\"1st num : \"))\n",
        "num2 = int(input(\"2nd num : \"))\n",
        "num3 = int(input(\"3rd num : \"))\n",
        "\n",
        "if num1 > num2 and num1 > num3 :\n",
        "  print(f\"{num1} is the 1st greatest num\")\n",
        "  if num2 > num3 :\n",
        "    print(f\"{num2} is the 2nd greatest num\")\n",
        "else :\n",
        "  print(f\"{num3} is the greatest num\")"
      ],
      "metadata": {
        "colab": {
          "base_uri": "https://localhost:8080/"
        },
        "id": "Xm-CmcErsWk2",
        "outputId": "d2454e53-5d45-4692-c3cc-454873a7508b"
      },
      "execution_count": null,
      "outputs": [
        {
          "output_type": "stream",
          "name": "stdout",
          "text": [
            "1st num : 10\n",
            "2nd num : 20\n",
            "3rd num : 30\n",
            "30 is the greatest num\n"
          ]
        }
      ]
    },
    {
      "cell_type": "code",
      "source": [
        "num1 = int(input(\"1st num : \"))\n",
        "num2 = int(input(\"2nd num : \"))\n",
        "num3 = int(input(\"3rd num : \"))\n",
        "\n",
        "if num1 > num2 and num1 > num3 :\n",
        "  print(f\"{num1} is the 1st greatest num\")\n",
        "  if num2 > num3 :\n",
        "    print(f\"{num2} is the 2nd greatest num\")\n",
        "else :\n",
        "  print(f\"{num3} is the 3rd greatest num\")"
      ],
      "metadata": {
        "colab": {
          "base_uri": "https://localhost:8080/"
        },
        "id": "MuE8UK7t-vUe",
        "outputId": "66d44b44-5af4-444f-ef5d-e2a7e11a564c"
      },
      "execution_count": null,
      "outputs": [
        {
          "output_type": "stream",
          "name": "stdout",
          "text": [
            "1st num : 30\n",
            "2nd num : 20\n",
            "3rd num : 10\n",
            "30 is the 1st greatest num\n",
            "20 is the 2nd greatest num\n"
          ]
        }
      ]
    },
    {
      "cell_type": "code",
      "source": [
        "num1 = int(input(\"1st num : \"))\n",
        "num2 = int(input(\"2nd num : \"))\n",
        "num3 = int(input(\"3rd num : \"))\n",
        "\n",
        "if num1 > num2 and num1 > num3 :\n",
        "  print(f\"{num1} is the 1st greatest num\")\n",
        "  if num2 > num3 :\n",
        "    print(f\"{num2} is the 2nd greatest num\")\n",
        "else :\n",
        "  print(\"jwehbf\")"
      ],
      "metadata": {
        "colab": {
          "base_uri": "https://localhost:8080/"
        },
        "id": "BGB5etOI-vSZ",
        "outputId": "7ceca34a-0d6f-49b7-febf-993cdcf9b553"
      },
      "execution_count": null,
      "outputs": [
        {
          "output_type": "stream",
          "name": "stdout",
          "text": [
            "1st num : 10\n",
            "2nd num : 20\n",
            "3rd num : 30\n",
            "jwehbf\n"
          ]
        }
      ]
    },
    {
      "cell_type": "code",
      "source": [
        "num = int(input(\"Enter a number : \"))\n",
        "\n",
        "if num % 7 == 0 :\n",
        "  print(f\"{num} is a multiple of 7.\")\n",
        "else :\n",
        "  print(f\"{num} isn't a multiple of 7.\")"
      ],
      "metadata": {
        "colab": {
          "base_uri": "https://localhost:8080/"
        },
        "id": "qKmTyG9M-vQX",
        "outputId": "aae2d944-e5a7-40ec-a324-8239aeba86c8"
      },
      "execution_count": null,
      "outputs": [
        {
          "output_type": "stream",
          "name": "stdout",
          "text": [
            "Enter a number : 12\n",
            "12 isn't a multiple of 7.\n"
          ]
        }
      ]
    },
    {
      "cell_type": "code",
      "source": [
        "num = int(input(\"Enter a number : \"))\n",
        "\n",
        "if num % 7 == 0 :\n",
        "  print(f\"{num} is a multiple of 7.\")\n",
        "else :\n",
        "  print(f\"{num} isn't a multiple of 7.\")"
      ],
      "metadata": {
        "colab": {
          "base_uri": "https://localhost:8080/"
        },
        "id": "03NkJRQG-vOq",
        "outputId": "50c53c10-d9a8-4067-fe81-a3e7cdd7bdcf"
      },
      "execution_count": null,
      "outputs": [
        {
          "output_type": "stream",
          "name": "stdout",
          "text": [
            "Enter a number : 14\n",
            "14 is a multiple of 7.\n"
          ]
        }
      ]
    },
    {
      "cell_type": "code",
      "source": [],
      "metadata": {
        "id": "lZxLxtbh-vL9"
      },
      "execution_count": null,
      "outputs": []
    },
    {
      "cell_type": "markdown",
      "source": [
        "#**While Loop**"
      ],
      "metadata": {
        "id": "XYjZieGt9Eek"
      }
    },
    {
      "cell_type": "code",
      "source": [
        "'''\n",
        "while True :\n",
        "     print(\"Hello Rahul\")\n",
        "prints \"Hello Rahul\" infinite times\n",
        "\n",
        "'''"
      ],
      "metadata": {
        "colab": {
          "base_uri": "https://localhost:8080/",
          "height": 35
        },
        "id": "sTt6gnwz9Q1o",
        "outputId": "49a9afe0-71d3-40f2-b17b-c7b34ee5e4c8"
      },
      "execution_count": 3,
      "outputs": [
        {
          "output_type": "execute_result",
          "data": {
            "text/plain": [
              "'\\nwhile True :\\n     print(\"Hello Rahul\")\\nprints \"Hello Rahul\" infinite times\\n\\n'"
            ],
            "application/vnd.google.colaboratory.intrinsic+json": {
              "type": "string"
            }
          },
          "metadata": {},
          "execution_count": 3
        }
      ]
    },
    {
      "cell_type": "code",
      "source": [
        "while False :\n",
        "  print(\"Hello Rahul\") # returns nothing as condition is False"
      ],
      "metadata": {
        "id": "APbuPMG29nq6"
      },
      "execution_count": 4,
      "outputs": []
    },
    {
      "cell_type": "code",
      "source": [
        "'''\n",
        "count = 1\n",
        "\n",
        "while count <= 5 :\n",
        "  print(\"Hello Rahul\")\n",
        "prints \"Hello Rahul\" infinitely as the condition is True ie. 1 <= 5\n",
        "\n",
        "'''"
      ],
      "metadata": {
        "id": "38ExldXS_wdv"
      },
      "execution_count": null,
      "outputs": []
    },
    {
      "cell_type": "code",
      "source": [
        "count = 1\n",
        "\n",
        "while count <= 5 :\n",
        "  print(\"Hello Rahul\")\n",
        "  count = count + 1 # count is inside the while loop, so it gets executed until the condition is false."
      ],
      "metadata": {
        "colab": {
          "base_uri": "https://localhost:8080/"
        },
        "id": "DaqM0p1kBay8",
        "outputId": "b2077309-92ea-4d85-a3bf-ae21d87af328"
      },
      "execution_count": 6,
      "outputs": [
        {
          "output_type": "stream",
          "name": "stdout",
          "text": [
            "Hello Rahul\n",
            "Hello Rahul\n",
            "Hello Rahul\n",
            "Hello Rahul\n",
            "Hello Rahul\n"
          ]
        }
      ]
    },
    {
      "cell_type": "code",
      "source": [
        "'''\n",
        "count = 1\n",
        "\n",
        "while count <= 5 :\n",
        "  print(\"Hello Rahul\")\n",
        "count = count + 1 # as count = count + 1 is outside the while loop, it won't\n",
        "be executed in a loop\n",
        "\n",
        "'''"
      ],
      "metadata": {
        "colab": {
          "base_uri": "https://localhost:8080/",
          "height": 0
        },
        "outputId": "4b69ee85-ff08-45ac-cd7a-3d7e3676d131",
        "collapsed": true,
        "id": "8yiLIBMhCWuW"
      },
      "execution_count": 8,
      "outputs": [
        {
          "output_type": "execute_result",
          "data": {
            "text/plain": [
              "'\\ncount = 1\\n\\nwhile count <= 5 :\\n  print(\"Hello Rahul\")\\ncount = count + 1 # as count = count + 1 is outside the while loop, it won\\'t\\nbe executed in a loop\\n\\n'"
            ],
            "application/vnd.google.colaboratory.intrinsic+json": {
              "type": "string"
            }
          },
          "metadata": {},
          "execution_count": 8
        }
      ]
    },
    {
      "cell_type": "code",
      "source": [
        "count = 5\n",
        "\n",
        "while count <= 5 :\n",
        "  print(\"Hello Rahul\")\n",
        "  count = count + 1 # loop stops at count = 6 as condition is False"
      ],
      "metadata": {
        "colab": {
          "base_uri": "https://localhost:8080/"
        },
        "outputId": "6b2e5b6a-72d8-4a13-d88b-eb6d68ab20ae",
        "id": "uju096m5DWmd"
      },
      "execution_count": 11,
      "outputs": [
        {
          "output_type": "stream",
          "name": "stdout",
          "text": [
            "Hello Rahul\n"
          ]
        }
      ]
    },
    {
      "cell_type": "code",
      "source": [
        "count = 1\n",
        "\n",
        "while count <= 5 :\n",
        "  print(\"Hello Rahul\")\n",
        "  count = count + 1\n",
        "print(count)"
      ],
      "metadata": {
        "colab": {
          "base_uri": "https://localhost:8080/"
        },
        "outputId": "922d8e65-e661-4412-f334-6ece2f79317b",
        "id": "NszONkfsEh-h"
      },
      "execution_count": 13,
      "outputs": [
        {
          "output_type": "stream",
          "name": "stdout",
          "text": [
            "Hello Rahul\n",
            "Hello Rahul\n",
            "Hello Rahul\n",
            "Hello Rahul\n",
            "Hello Rahul\n",
            "6\n"
          ]
        }
      ]
    },
    {
      "cell_type": "code",
      "source": [
        "count = 1\n",
        "\n",
        "while count <= 5 :\n",
        "  print(\"Hello Rahul\")\n",
        "  count = count + 1\n",
        "  print(count)"
      ],
      "metadata": {
        "colab": {
          "base_uri": "https://localhost:8080/"
        },
        "outputId": "f81b7d4d-caa6-4d26-870c-db750bc73ebe",
        "id": "rsMvKaOkFgLU"
      },
      "execution_count": 14,
      "outputs": [
        {
          "output_type": "stream",
          "name": "stdout",
          "text": [
            "Hello Rahul\n",
            "2\n",
            "Hello Rahul\n",
            "3\n",
            "Hello Rahul\n",
            "4\n",
            "Hello Rahul\n",
            "5\n",
            "Hello Rahul\n",
            "6\n"
          ]
        }
      ]
    },
    {
      "cell_type": "code",
      "source": [
        "i = 5\n",
        "\n",
        "while i >= 1 :\n",
        "  print(\"Hello\")\n",
        "  i = i - 1"
      ],
      "metadata": {
        "colab": {
          "base_uri": "https://localhost:8080/"
        },
        "id": "SRBbppRfBahw",
        "outputId": "c7c973ce-6b43-473c-b8c9-7a1102c892f3"
      },
      "execution_count": 17,
      "outputs": [
        {
          "output_type": "stream",
          "name": "stdout",
          "text": [
            "Hello\n",
            "Hello\n",
            "Hello\n",
            "Hello\n",
            "Hello\n"
          ]
        }
      ]
    },
    {
      "cell_type": "code",
      "source": [
        "i = 5\n",
        "\n",
        "while i >= 1 :\n",
        "  print(\"Hello\")\n",
        "  i = i - 1\n",
        "  print(i)"
      ],
      "metadata": {
        "colab": {
          "base_uri": "https://localhost:8080/"
        },
        "outputId": "09ca753d-8801-4d2b-8276-538dc957a15b",
        "id": "RSbEWU4qcnCe"
      },
      "execution_count": 18,
      "outputs": [
        {
          "output_type": "stream",
          "name": "stdout",
          "text": [
            "Hello\n",
            "4\n",
            "Hello\n",
            "3\n",
            "Hello\n",
            "2\n",
            "Hello\n",
            "1\n",
            "Hello\n",
            "0\n"
          ]
        }
      ]
    },
    {
      "cell_type": "code",
      "source": [
        "i = 5\n",
        "\n",
        "while i >= 1 : # stopping condition used to end the loop\n",
        "  print(\"Hello\") #\n",
        "  i = i - 1\n",
        "print(i)"
      ],
      "metadata": {
        "colab": {
          "base_uri": "https://localhost:8080/"
        },
        "outputId": "cbbd4823-1680-4f11-9c39-7e44716f348a",
        "id": "V0mhO28LcrnV"
      },
      "execution_count": 19,
      "outputs": [
        {
          "output_type": "stream",
          "name": "stdout",
          "text": [
            "Hello\n",
            "Hello\n",
            "Hello\n",
            "Hello\n",
            "Hello\n",
            "0\n"
          ]
        }
      ]
    },
    {
      "cell_type": "code",
      "source": [
        "i = 5\n",
        "\n",
        "while i >= 1 : # stopping condition used to end the loop\n",
        "  print(\"Hello\") #\n",
        "  i = i - 1\n",
        "print(i)"
      ],
      "metadata": {
        "colab": {
          "base_uri": "https://localhost:8080/"
        },
        "outputId": "cbbd4823-1680-4f11-9c39-7e44716f348a",
        "id": "GQT7rzbh4HkB"
      },
      "execution_count": null,
      "outputs": [
        {
          "output_type": "stream",
          "name": "stdout",
          "text": [
            "Hello\n",
            "Hello\n",
            "Hello\n",
            "Hello\n",
            "Hello\n",
            "0\n"
          ]
        }
      ]
    },
    {
      "cell_type": "code",
      "source": [
        "i = 5\n",
        "\n",
        "while i >= 1 : # stopping condition used to end the loop\n",
        "  print(\"Hello\") #\n",
        "  i = i - 1ffff\n",
        "print(i)"
      ],
      "metadata": {
        "colab": {
          "base_uri": "https://localhost:8080/"
        },
        "outputId": "cbbd4823-1680-4f11-9c39-7e44716f348a",
        "id": "DUmHv5Hj4ZhO"
      },
      "execution_count": null,
      "outputs": [
        {
          "output_type": "stream",
          "name": "stdout",
          "text": [
            "Hello\n",
            "Hello\n",
            "Hello\n",
            "Hello\n",
            "Hello\n",
            "0\n"
          ]
        }
      ]
    },
    {
      "cell_type": "code",
      "source": [
        "num = 1\n",
        "while num <= 100 :\n",
        "  print(num)\n",
        "  num += 1"
      ],
      "metadata": {
        "colab": {
          "base_uri": "https://localhost:8080/"
        },
        "id": "9b1bEdGA3onv",
        "outputId": "96f59fcf-c918-4a75-a752-bfea165c3334"
      },
      "execution_count": 2,
      "outputs": [
        {
          "output_type": "stream",
          "name": "stdout",
          "text": [
            "1\n",
            "2\n",
            "3\n",
            "4\n",
            "5\n",
            "6\n",
            "7\n",
            "8\n",
            "9\n",
            "10\n",
            "11\n",
            "12\n",
            "13\n",
            "14\n",
            "15\n",
            "16\n",
            "17\n",
            "18\n",
            "19\n",
            "20\n",
            "21\n",
            "22\n",
            "23\n",
            "24\n",
            "25\n",
            "26\n",
            "27\n",
            "28\n",
            "29\n",
            "30\n",
            "31\n",
            "32\n",
            "33\n",
            "34\n",
            "35\n",
            "36\n",
            "37\n",
            "38\n",
            "39\n",
            "40\n",
            "41\n",
            "42\n",
            "43\n",
            "44\n",
            "45\n",
            "46\n",
            "47\n",
            "48\n",
            "49\n",
            "50\n",
            "51\n",
            "52\n",
            "53\n",
            "54\n",
            "55\n",
            "56\n",
            "57\n",
            "58\n",
            "59\n",
            "60\n",
            "61\n",
            "62\n",
            "63\n",
            "64\n",
            "65\n",
            "66\n",
            "67\n",
            "68\n",
            "69\n",
            "70\n",
            "71\n",
            "72\n",
            "73\n",
            "74\n",
            "75\n",
            "76\n",
            "77\n",
            "78\n",
            "79\n",
            "80\n",
            "81\n",
            "82\n",
            "83\n",
            "84\n",
            "85\n",
            "86\n",
            "87\n",
            "88\n",
            "89\n",
            "90\n",
            "91\n",
            "92\n",
            "93\n",
            "94\n",
            "95\n",
            "96\n",
            "97\n",
            "98\n",
            "99\n",
            "100\n"
          ]
        }
      ]
    },
    {
      "cell_type": "code",
      "source": [
        "i = 1\n",
        "while i <= 100 :\n",
        "  print(i)\n",
        "  i += 1"
      ],
      "metadata": {
        "colab": {
          "base_uri": "https://localhost:8080/"
        },
        "id": "Ypo8wf91sz7r",
        "outputId": "d6857af7-1637-46ed-e328-30dbddde5fe7"
      },
      "execution_count": 38,
      "outputs": [
        {
          "output_type": "stream",
          "name": "stdout",
          "text": [
            "1\n",
            "2\n",
            "3\n",
            "4\n",
            "5\n",
            "6\n",
            "7\n",
            "8\n",
            "9\n",
            "10\n",
            "11\n",
            "12\n",
            "13\n",
            "14\n",
            "15\n",
            "16\n",
            "17\n",
            "18\n",
            "19\n",
            "20\n",
            "21\n",
            "22\n",
            "23\n",
            "24\n",
            "25\n",
            "26\n",
            "27\n",
            "28\n",
            "29\n",
            "30\n",
            "31\n",
            "32\n",
            "33\n",
            "34\n",
            "35\n",
            "36\n",
            "37\n",
            "38\n",
            "39\n",
            "40\n",
            "41\n",
            "42\n",
            "43\n",
            "44\n",
            "45\n",
            "46\n",
            "47\n",
            "48\n",
            "49\n",
            "50\n",
            "51\n",
            "52\n",
            "53\n",
            "54\n",
            "55\n",
            "56\n",
            "57\n",
            "58\n",
            "59\n",
            "60\n",
            "61\n",
            "62\n",
            "63\n",
            "64\n",
            "65\n",
            "66\n",
            "67\n",
            "68\n",
            "69\n",
            "70\n",
            "71\n",
            "72\n",
            "73\n",
            "74\n",
            "75\n",
            "76\n",
            "77\n",
            "78\n",
            "79\n",
            "80\n",
            "81\n",
            "82\n",
            "83\n",
            "84\n",
            "85\n",
            "86\n",
            "87\n",
            "88\n",
            "89\n",
            "90\n",
            "91\n",
            "92\n",
            "93\n",
            "94\n",
            "95\n",
            "96\n",
            "97\n",
            "98\n",
            "99\n",
            "100\n"
          ]
        }
      ]
    },
    {
      "cell_type": "code",
      "source": [
        "i = 100\n",
        "while i >= 1 :\n",
        "  print(i)\n",
        "  i -= 1"
      ],
      "metadata": {
        "colab": {
          "base_uri": "https://localhost:8080/"
        },
        "id": "7YC4Fjj63ohS",
        "outputId": "a57a60aa-f3e7-4eed-ad31-2e67260aa13f"
      },
      "execution_count": 5,
      "outputs": [
        {
          "output_type": "stream",
          "name": "stdout",
          "text": [
            "100\n",
            "99\n",
            "98\n",
            "97\n",
            "96\n",
            "95\n",
            "94\n",
            "93\n",
            "92\n",
            "91\n",
            "90\n",
            "89\n",
            "88\n",
            "87\n",
            "86\n",
            "85\n",
            "84\n",
            "83\n",
            "82\n",
            "81\n",
            "80\n",
            "79\n",
            "78\n",
            "77\n",
            "76\n",
            "75\n",
            "74\n",
            "73\n",
            "72\n",
            "71\n",
            "70\n",
            "69\n",
            "68\n",
            "67\n",
            "66\n",
            "65\n",
            "64\n",
            "63\n",
            "62\n",
            "61\n",
            "60\n",
            "59\n",
            "58\n",
            "57\n",
            "56\n",
            "55\n",
            "54\n",
            "53\n",
            "52\n",
            "51\n",
            "50\n",
            "49\n",
            "48\n",
            "47\n",
            "46\n",
            "45\n",
            "44\n",
            "43\n",
            "42\n",
            "41\n",
            "40\n",
            "39\n",
            "38\n",
            "37\n",
            "36\n",
            "35\n",
            "34\n",
            "33\n",
            "32\n",
            "31\n",
            "30\n",
            "29\n",
            "28\n",
            "27\n",
            "26\n",
            "25\n",
            "24\n",
            "23\n",
            "22\n",
            "21\n",
            "20\n",
            "19\n",
            "18\n",
            "17\n",
            "16\n",
            "15\n",
            "14\n",
            "13\n",
            "12\n",
            "11\n",
            "10\n",
            "9\n",
            "8\n",
            "7\n",
            "6\n",
            "5\n",
            "4\n",
            "3\n",
            "2\n",
            "1\n"
          ]
        }
      ]
    },
    {
      "cell_type": "markdown",
      "source": [
        "2*1 = 2\n",
        "\n",
        "2*2 = 4\n",
        "\n",
        "2*3 = 6"
      ],
      "metadata": {
        "id": "mggr6V-7JtPJ"
      }
    },
    {
      "cell_type": "code",
      "source": [
        "num = 5\n",
        "i = 1\n",
        "while i <= 10 :\n",
        "  j = num*i\n",
        "  print(\"%d * %d is %d\" %(num, i, j))\n",
        "  i += 1"
      ],
      "metadata": {
        "colab": {
          "base_uri": "https://localhost:8080/"
        },
        "id": "cCsm9oGlMNOt",
        "outputId": "75e39f3d-bd5f-426a-a1ee-7c1df9f121e9"
      },
      "execution_count": 18,
      "outputs": [
        {
          "output_type": "stream",
          "name": "stdout",
          "text": [
            "5 * 1 is 5\n",
            "5 * 2 is 10\n",
            "5 * 3 is 15\n",
            "5 * 4 is 20\n",
            "5 * 5 is 25\n",
            "5 * 6 is 30\n",
            "5 * 7 is 35\n",
            "5 * 8 is 40\n",
            "5 * 9 is 45\n",
            "5 * 10 is 50\n"
          ]
        }
      ]
    },
    {
      "cell_type": "code",
      "source": [
        "x = 2\n",
        "y = 1\n",
        "while y <= 10 :\n",
        "  print(x * y)\n",
        "  y += 1"
      ],
      "metadata": {
        "colab": {
          "base_uri": "https://localhost:8080/"
        },
        "id": "6VFUiJSwuwkf",
        "outputId": "2e955d8c-abf6-48f5-d2fb-9fd080221e5c"
      },
      "execution_count": 39,
      "outputs": [
        {
          "output_type": "stream",
          "name": "stdout",
          "text": [
            "2\n",
            "4\n",
            "6\n",
            "8\n",
            "10\n",
            "12\n",
            "14\n",
            "16\n",
            "18\n",
            "20\n"
          ]
        }
      ]
    },
    {
      "cell_type": "markdown",
      "source": [
        "1\n",
        "\n",
        "4\n",
        "\n",
        "9\n",
        "\n",
        "16"
      ],
      "metadata": {
        "id": "hOV2cMPS4Xc9"
      }
    },
    {
      "cell_type": "code",
      "source": [
        "n = 5\n",
        "for i in range(6) :\n",
        "  print(i)"
      ],
      "metadata": {
        "colab": {
          "base_uri": "https://localhost:8080/"
        },
        "id": "1XK9hMO8VNrP",
        "outputId": "fc37e8b3-d724-4ff0-f86b-320f70e7b245"
      },
      "execution_count": 29,
      "outputs": [
        {
          "output_type": "stream",
          "name": "stdout",
          "text": [
            "0\n",
            "1\n",
            "2\n",
            "3\n",
            "4\n",
            "5\n"
          ]
        }
      ]
    },
    {
      "cell_type": "code",
      "source": [
        "sum = 0\n",
        "\n",
        "for i in range(1,6) :\n",
        "  sum = sum + i\n",
        "  print(sum)\n",
        "print(\"Sum of first 5 numbers :\", sum)"
      ],
      "metadata": {
        "colab": {
          "base_uri": "https://localhost:8080/"
        },
        "outputId": "e4dddb20-5172-4ff2-dfa2-68ce3818e09e",
        "id": "N1E9Gg3zYguC"
      },
      "execution_count": 35,
      "outputs": [
        {
          "output_type": "stream",
          "name": "stdout",
          "text": [
            "1\n",
            "3\n",
            "6\n",
            "10\n",
            "15\n",
            "Sum of first 5 numbers : 15\n"
          ]
        }
      ]
    },
    {
      "cell_type": "code",
      "source": [],
      "metadata": {
        "id": "ADaiDMS-dOAR"
      },
      "execution_count": null,
      "outputs": []
    },
    {
      "cell_type": "code",
      "source": [
        "sum = 0\n",
        "i = 1\n",
        "\n",
        "while i <= 5 :\n",
        "\n",
        "  sum = sum + i\n",
        "  i += 1\n",
        "  print(sum)\n",
        "\n",
        "print(\"Sum of first 5 numbers :\", sum)"
      ],
      "metadata": {
        "colab": {
          "base_uri": "https://localhost:8080/"
        },
        "id": "2tiAsHyOdNLd",
        "outputId": "216c3044-bf3b-4c2c-ae19-158da7ba2561"
      },
      "execution_count": 36,
      "outputs": [
        {
          "output_type": "stream",
          "name": "stdout",
          "text": [
            "1\n",
            "3\n",
            "6\n",
            "10\n",
            "15\n",
            "Sum of first 5 numbers : 15\n"
          ]
        }
      ]
    },
    {
      "cell_type": "code",
      "source": [
        "num = 1\n",
        "\n",
        "while num <= 10 :\n",
        "  print(num**2)\n",
        "\n",
        "  num += 1\n"
      ],
      "metadata": {
        "colab": {
          "base_uri": "https://localhost:8080/"
        },
        "id": "NscRVqeeSY6J",
        "outputId": "2b8b87fc-5e7d-4605-f61d-702d081d3316"
      },
      "execution_count": 1,
      "outputs": [
        {
          "output_type": "stream",
          "name": "stdout",
          "text": [
            "1\n",
            "4\n",
            "9\n",
            "16\n",
            "25\n",
            "36\n",
            "49\n",
            "64\n",
            "81\n",
            "100\n"
          ]
        }
      ]
    },
    {
      "cell_type": "markdown",
      "source": [
        "Traversing through Lists :"
      ],
      "metadata": {
        "id": "fWUxAsNPd1qh"
      }
    },
    {
      "cell_type": "code",
      "source": [
        "list = [1,4,9,16,25,36,49,64,81,100]\n",
        "idx = 0\n",
        "\n",
        "# while idx <= len(list)-1 or\n",
        "while idx < len(list) :\n",
        "\n",
        "  print(list[idx])\n",
        "  idx += idx # returns infinite loop of idx = 0 ie. 1"
      ],
      "metadata": {
        "id": "nFfKWBfdSYzq"
      },
      "execution_count": null,
      "outputs": []
    },
    {
      "cell_type": "code",
      "source": [],
      "metadata": {
        "id": "3vxub3PJxpTq"
      },
      "execution_count": null,
      "outputs": []
    },
    {
      "cell_type": "code",
      "source": [
        "tupp = (1,2,3,4,5)\n",
        "ind = 0\n",
        "num = 4\n",
        "while ind < len(tupp) :\n",
        "  if tupp[ind] == num :\n",
        "    print(\"Found\")\n",
        "  ind += 1"
      ],
      "metadata": {
        "id": "hla5Z2hnw1o3",
        "colab": {
          "base_uri": "https://localhost:8080/"
        },
        "outputId": "22cd59f8-e865-4473-b9a0-5cb473135c08"
      },
      "execution_count": 43,
      "outputs": [
        {
          "output_type": "stream",
          "name": "stdout",
          "text": [
            "Found\n"
          ]
        }
      ]
    },
    {
      "cell_type": "code",
      "source": [
        "list = [1,4,9,16,25,36,49,64,81,100]\n",
        "idx = 0\n",
        "print(len(list),\"\\n\")\n",
        "# while idx <= len(list)-1 or\n",
        "while idx < len(list) :\n",
        "\n",
        "  print(list[idx])\n",
        "  idx += 1 # returns each element of the list"
      ],
      "metadata": {
        "colab": {
          "base_uri": "https://localhost:8080/"
        },
        "id": "n4jmWK13SYv6",
        "outputId": "66070d92-a269-4fa4-df8b-08592275f9d7"
      },
      "execution_count": 4,
      "outputs": [
        {
          "output_type": "stream",
          "name": "stdout",
          "text": [
            "10 \n",
            "\n",
            "1\n",
            "4\n",
            "9\n",
            "16\n",
            "25\n",
            "36\n",
            "49\n",
            "64\n",
            "81\n",
            "100\n"
          ]
        }
      ]
    },
    {
      "cell_type": "code",
      "source": [
        "list = [1,4,9,16,25,36,49,64,81,100]\n",
        "idx = 0\n",
        "print(len(list),\"\\n\")\n",
        "# while idx <= len(list)-1 or\n",
        "while idx < len(list) :\n",
        "\n",
        "  print(list[idx])\n",
        "idx += 1 ''' idx += 1 is not in while loop\n",
        "and returns an infinite loop with idx = 0 always and output for list[0] ie. 1 '''"
      ],
      "metadata": {
        "id": "82ATcTV4j4uY"
      },
      "execution_count": null,
      "outputs": []
    },
    {
      "cell_type": "code",
      "source": [],
      "metadata": {
        "id": "HsnFI3WslYGX"
      },
      "execution_count": null,
      "outputs": []
    },
    {
      "cell_type": "code",
      "source": [
        "list = [1,2,3,4,5]\n",
        "idx = 0\n",
        "x = 3\n",
        "# print(len(list)) # 5\n",
        "while idx < len(list) :\n",
        "  if x == list[idx] : # prints the statement only when if condition is true\n",
        "    print(\"found at index\", idx)\n",
        "  idx += 1"
      ],
      "metadata": {
        "colab": {
          "base_uri": "https://localhost:8080/"
        },
        "id": "ZLzTQFUUlC70",
        "outputId": "a20ae590-cc59-4ab3-ec96-2ba4946aa17e"
      },
      "execution_count": 5,
      "outputs": [
        {
          "output_type": "stream",
          "name": "stdout",
          "text": [
            "found at index 2\n"
          ]
        }
      ]
    },
    {
      "cell_type": "code",
      "source": [
        "list = [1,2,3,4,5]\n",
        "idx = 0\n",
        "x = 3\n",
        "# print(len(list)) # 5\n",
        "while idx < len(list) :\n",
        "  if list[idx] == x :\n",
        "    print(\"found\")\n",
        "  idx += 1"
      ],
      "metadata": {
        "colab": {
          "base_uri": "https://localhost:8080/"
        },
        "id": "cXJToRWFSYub",
        "outputId": "d7db9507-6d04-414c-8661-52466f45d648"
      },
      "execution_count": 33,
      "outputs": [
        {
          "output_type": "stream",
          "name": "stdout",
          "text": [
            "found\n"
          ]
        }
      ]
    },
    {
      "cell_type": "code",
      "source": [
        "list = [1,2,3,4,5]\n",
        "idx = 0\n",
        "x = 3\n",
        "# print(len(list)) # 5\n",
        "while idx < len(list) :\n",
        "  if list[idx] == x :\n",
        "    print(\"found\")\n",
        "  else :\n",
        "    print(\"not found\")\n",
        "  idx += 1"
      ],
      "metadata": {
        "colab": {
          "base_uri": "https://localhost:8080/"
        },
        "outputId": "4d95d449-2f58-4367-9bbe-ef142c43e1dd",
        "id": "viYlZpIB-Hx7"
      },
      "execution_count": 8,
      "outputs": [
        {
          "output_type": "stream",
          "name": "stdout",
          "text": [
            "not found\n",
            "not found\n",
            "found\n",
            "not found\n",
            "not found\n"
          ]
        }
      ]
    },
    {
      "cell_type": "code",
      "source": [
        "list = [1,2,3,4,5,3] # returns twice as there are 3(x) at 2nd and 5th index in this list\n",
        "idx = 0\n",
        "x = 3\n",
        "# print(len(list)) # 5\n",
        "while idx < len(list) :\n",
        "  if list[idx] == x :\n",
        "    print(\"found\")\n",
        "  else :\n",
        "    print(\"not found\")\n",
        "  idx += 1"
      ],
      "metadata": {
        "colab": {
          "base_uri": "https://localhost:8080/"
        },
        "outputId": "bacbd5c4-1dbb-48b1-ddb0-68b462a3426f",
        "id": "E1ojz3VA-nRh"
      },
      "execution_count": 9,
      "outputs": [
        {
          "output_type": "stream",
          "name": "stdout",
          "text": [
            "not found\n",
            "not found\n",
            "found\n",
            "not found\n",
            "not found\n",
            "found\n"
          ]
        }
      ]
    },
    {
      "cell_type": "code",
      "source": [
        "list = [1,2,3,4,5,3] # returns twice as there are 3(x) at 2nd and 5th index in this list\n",
        "idx = 0\n",
        "x = 3\n",
        "# print(len(list)) # 5\n",
        "while idx < len(list) :\n",
        "  if list[idx] == x :\n",
        "    print(\"found\") # gets printed \"found\" for idx = 2\n",
        "  else :\n",
        "    print(\"not found\") # gets printed \"not found\" for idx = 0, 1\n",
        "    idx += 1 # as idx is within else condition, if condition is executed infinitely with idx = 2"
      ],
      "metadata": {
        "colab": {
          "base_uri": "https://localhost:8080/"
        },
        "outputId": "bacbd5c4-1dbb-48b1-ddb0-68b462a3426f",
        "id": "5Sa0NYqaOU58"
      },
      "execution_count": null,
      "outputs": [
        {
          "output_type": "stream",
          "name": "stdout",
          "text": [
            "not found\n",
            "not found\n",
            "found\n",
            "not found\n",
            "not found\n",
            "found\n"
          ]
        }
      ]
    },
    {
      "cell_type": "markdown",
      "source": [
        "##**Break :**"
      ],
      "metadata": {
        "id": "ZoFy3vK2_l0A"
      }
    },
    {
      "cell_type": "code",
      "source": [
        "i = 1\n",
        "while i <= 5 :\n",
        "  print(i)\n",
        "  i += 1"
      ],
      "metadata": {
        "colab": {
          "base_uri": "https://localhost:8080/"
        },
        "id": "PXal1OTI3oVD",
        "outputId": "2ed9d569-c43a-4949-8793-4d60c5d5b22a"
      },
      "execution_count": 10,
      "outputs": [
        {
          "output_type": "stream",
          "name": "stdout",
          "text": [
            "1\n",
            "2\n",
            "3\n",
            "4\n",
            "5\n"
          ]
        }
      ]
    },
    {
      "cell_type": "code",
      "source": [
        "i = 1\n",
        "while i <= 5 :\n",
        "  print(i)\n",
        "  if i == 4 : # if 'i == 4' condition is true, move to the next line\n",
        "    break # as this next line is 'break', loop gets terminated and stops executing further\n",
        "  i += 1"
      ],
      "metadata": {
        "colab": {
          "base_uri": "https://localhost:8080/"
        },
        "outputId": "3a6b6840-3449-4b14-9854-e9b0d8f193aa",
        "id": "vMgSRnaaFBVS"
      },
      "execution_count": 11,
      "outputs": [
        {
          "output_type": "stream",
          "name": "stdout",
          "text": [
            "1\n",
            "2\n",
            "3\n",
            "4\n"
          ]
        }
      ]
    },
    {
      "cell_type": "code",
      "source": [
        "i = 0\n",
        "while i <= 5 :\n",
        "  print(i)\n",
        "  if i == 2 : # looping breaks at i = 2\n",
        "    break\n",
        "  i += 1"
      ],
      "metadata": {
        "colab": {
          "base_uri": "https://localhost:8080/"
        },
        "outputId": "3dad19dc-e972-49df-f76e-a788f0568f50",
        "id": "kPRe1rI3HJXZ"
      },
      "execution_count": 12,
      "outputs": [
        {
          "output_type": "stream",
          "name": "stdout",
          "text": [
            "0\n",
            "1\n",
            "2\n"
          ]
        }
      ]
    },
    {
      "cell_type": "code",
      "source": [
        "list = [1,2,3,4,5,3] # returns twice as there are 3(x) at 2nd and 5th index in this list\n",
        "idx = 0\n",
        "x = 3\n",
        "# print(len(list)) # 5\n",
        "while idx < len(list) :\n",
        "  if list[idx] == x :\n",
        "    print(\"found\")\n",
        "  else :\n",
        "    print(\"not found\")\n",
        "  idx += 1"
      ],
      "metadata": {
        "colab": {
          "base_uri": "https://localhost:8080/"
        },
        "outputId": "7b8557d8-975f-4950-8b5f-add490b32c35",
        "id": "WplnI62NMQ2l"
      },
      "execution_count": 13,
      "outputs": [
        {
          "output_type": "stream",
          "name": "stdout",
          "text": [
            "not found\n",
            "not found\n",
            "found\n",
            "not found\n",
            "not found\n",
            "found\n"
          ]
        }
      ]
    },
    {
      "cell_type": "code",
      "source": [
        "list = [1,2,3,4,5,3] # returns twice as there are 3(x) at 2nd and 5th index in this list\n",
        "idx = 0\n",
        "x = 3\n",
        "# print(len(list)) # 5\n",
        "while idx < len(list) :\n",
        "  if list[idx] == x :\n",
        "    print(\"found\\n\")\n",
        "    break # break the loop idx = 2 ie. x = 3\n",
        "  else :\n",
        "    print(\"not found\")\n",
        "  idx += 1\n",
        "\n",
        "print(\"Ending the while loop\")"
      ],
      "metadata": {
        "colab": {
          "base_uri": "https://localhost:8080/"
        },
        "outputId": "0f91a6d7-38cd-47bc-eecd-0371d39f06be",
        "id": "aM887f50Mew4"
      },
      "execution_count": 21,
      "outputs": [
        {
          "output_type": "stream",
          "name": "stdout",
          "text": [
            "not found\n",
            "not found\n",
            "found\n",
            "\n",
            "Ending the while loop\n"
          ]
        }
      ]
    },
    {
      "cell_type": "markdown",
      "source": [
        "##**Continue :**"
      ],
      "metadata": {
        "id": "zo0DJNmZS6hR"
      }
    },
    {
      "cell_type": "code",
      "source": [
        "i = 1\n",
        "while i <= 5 :\n",
        "  print(i)\n",
        "  i += 1"
      ],
      "metadata": {
        "colab": {
          "base_uri": "https://localhost:8080/"
        },
        "outputId": "2ed9d569-c43a-4949-8793-4d60c5d5b22a",
        "id": "o1hM9_JtTcJ-"
      },
      "execution_count": null,
      "outputs": [
        {
          "output_type": "stream",
          "name": "stdout",
          "text": [
            "1\n",
            "2\n",
            "3\n",
            "4\n",
            "5\n"
          ]
        }
      ]
    },
    {
      "cell_type": "code",
      "source": [],
      "metadata": {
        "id": "nRPkLi2s_OuK"
      },
      "execution_count": null,
      "outputs": []
    },
    {
      "cell_type": "code",
      "source": [
        "i = 1\n",
        "while i <= 5 :\n",
        "  if i == 3 :\n",
        "    i += 1\n",
        "    continue # skips the current iteration\n",
        "  print(i)\n",
        "  i += 1"
      ],
      "metadata": {
        "colab": {
          "base_uri": "https://localhost:8080/"
        },
        "outputId": "95e7a5b6-0486-46dc-d243-d6a6424e298f",
        "id": "h5l6dbbIextP"
      },
      "execution_count": 30,
      "outputs": [
        {
          "output_type": "stream",
          "name": "stdout",
          "text": [
            "1\n",
            "2\n",
            "4\n",
            "5\n"
          ]
        }
      ]
    },
    {
      "cell_type": "code",
      "source": [
        "# printing all even numbers from 1 - 20 :\n",
        "\n",
        "i = 1\n",
        "while i <= 20 :\n",
        "  if i % 2 == 0 :\n",
        "    print(i)\n",
        "  i += 1"
      ],
      "metadata": {
        "id": "bEoNxR6MTddN",
        "colab": {
          "base_uri": "https://localhost:8080/"
        },
        "outputId": "53f2e0c0-ab6f-4205-9a27-e54aac74a0b7"
      },
      "execution_count": 34,
      "outputs": [
        {
          "output_type": "stream",
          "name": "stdout",
          "text": [
            "2\n",
            "4\n",
            "6\n",
            "8\n",
            "10\n",
            "12\n",
            "14\n",
            "16\n",
            "18\n",
            "20\n"
          ]
        }
      ]
    },
    {
      "cell_type": "code",
      "source": [
        "# printing all even numbers from 0 - 20 :\n",
        "\n",
        "i = 0\n",
        "while i <= 20 :\n",
        "  if i % 2 != 0 : # we skip print(i) and i += 1 operation when if statement is true\n",
        "    i += 1\n",
        "    continue\n",
        "  print(i)\n",
        "  i += 1"
      ],
      "metadata": {
        "colab": {
          "base_uri": "https://localhost:8080/"
        },
        "outputId": "dcb16891-fb71-4231-b918-9dabddecf441",
        "id": "VUOKYMxKrROM"
      },
      "execution_count": 35,
      "outputs": [
        {
          "output_type": "stream",
          "name": "stdout",
          "text": [
            "0\n",
            "2\n",
            "4\n",
            "6\n",
            "8\n",
            "10\n",
            "12\n",
            "14\n",
            "16\n",
            "18\n",
            "20\n"
          ]
        }
      ]
    },
    {
      "cell_type": "code",
      "source": [],
      "metadata": {
        "id": "ss4WbrjOTdPY"
      },
      "execution_count": null,
      "outputs": []
    },
    {
      "cell_type": "code",
      "source": [
        "# printing all odd numbers from 0 - 20 :\n",
        "\n",
        "i = 0\n",
        "while i <= 20 :\n",
        "  if i % 2 == 0 : # we skip print(i) and i += 1 operation when if statement is true\n",
        "    i += 1\n",
        "    continue\n",
        "  print(i)\n",
        "  i += 1"
      ],
      "metadata": {
        "colab": {
          "base_uri": "https://localhost:8080/"
        },
        "outputId": "c362a61c-ce2d-4824-babd-f9f17da30bd4",
        "id": "zdFHUSzJZVAr"
      },
      "execution_count": 36,
      "outputs": [
        {
          "output_type": "stream",
          "name": "stdout",
          "text": [
            "1\n",
            "3\n",
            "5\n",
            "7\n",
            "9\n",
            "11\n",
            "13\n",
            "15\n",
            "17\n",
            "19\n"
          ]
        }
      ]
    },
    {
      "cell_type": "markdown",
      "source": [
        "#**For Loop**"
      ],
      "metadata": {
        "id": "AHwW8S_aaUcY"
      }
    },
    {
      "cell_type": "code",
      "source": [
        "nums = [1,2,3,4,5,6,7,8]\n",
        "\n",
        "for i in nums :\n",
        "  print(i) # returns in tha same sequence"
      ],
      "metadata": {
        "colab": {
          "base_uri": "https://localhost:8080/"
        },
        "id": "d5KOD-TtTdNb",
        "outputId": "2e1bdf37-ce8a-4c8e-ca2c-31bcc3dadee4"
      },
      "execution_count": 37,
      "outputs": [
        {
          "output_type": "stream",
          "name": "stdout",
          "text": [
            "1\n",
            "2\n",
            "3\n",
            "4\n",
            "5\n",
            "6\n",
            "7\n",
            "8\n"
          ]
        }
      ]
    },
    {
      "cell_type": "code",
      "source": [
        "names = (\"Rahul\", \"Ruthvik\", \"Mummy\", \"Daddy\")\n",
        "\n",
        "for name in names :\n",
        "  print(name) # returns in the same sequence"
      ],
      "metadata": {
        "colab": {
          "base_uri": "https://localhost:8080/"
        },
        "id": "_J1IWVwbTdG8",
        "outputId": "bcac6acc-c824-4a0d-b2e1-bd11c4eedaaa"
      },
      "execution_count": 2,
      "outputs": [
        {
          "output_type": "stream",
          "name": "stdout",
          "text": [
            "Rahul\n",
            "Ruthvik\n",
            "Mummy\n",
            "Daddy\n"
          ]
        }
      ]
    },
    {
      "cell_type": "code",
      "source": [
        "names = (\"Rahul\", \"Ruthvik\", \"Mummy\", \"Daddy\")\n",
        "for name in names :\n",
        "  if name == \"Mummy\" :\n",
        "    print(\"Mummy found\")\n",
        "    break\n",
        "  else :\n",
        "    print(name)\n",
        "\n"
      ],
      "metadata": {
        "colab": {
          "base_uri": "https://localhost:8080/"
        },
        "outputId": "ae920b13-fc11-44a1-dffb-798926956d8d",
        "id": "n0btutOqoeKM"
      },
      "execution_count": 4,
      "outputs": [
        {
          "output_type": "stream",
          "name": "stdout",
          "text": [
            "Rahul\n",
            "Ruthvik\n",
            "Mummy found\n"
          ]
        }
      ]
    },
    {
      "cell_type": "code",
      "source": [
        "num = [10,20,30,40]\n",
        "for i in num :\n",
        "  if i % 40 == 0 :\n",
        "    print(i)\n",
        "  else :\n",
        "    print(\"noooooooope\")"
      ],
      "metadata": {
        "colab": {
          "base_uri": "https://localhost:8080/"
        },
        "id": "9QXiovYY-Rpr",
        "outputId": "98f61dd2-84fb-4c5c-bce0-9f2c7f8bf270"
      },
      "execution_count": 7,
      "outputs": [
        {
          "output_type": "stream",
          "name": "stdout",
          "text": [
            "noooooooope\n",
            "noooooooope\n",
            "noooooooope\n",
            "40\n"
          ]
        }
      ]
    },
    {
      "cell_type": "code",
      "source": [
        "num = [1,4,9,16,25,36,49,64,81,100]\n",
        "\n",
        "for i in num :\n",
        "  print(i)"
      ],
      "metadata": {
        "colab": {
          "base_uri": "https://localhost:8080/"
        },
        "id": "PyMNHn14TdEf",
        "outputId": "ca84b656-8c2e-4fd9-a974-b085c7497c1a"
      },
      "execution_count": 8,
      "outputs": [
        {
          "output_type": "stream",
          "name": "stdout",
          "text": [
            "1\n",
            "4\n",
            "9\n",
            "16\n",
            "25\n",
            "36\n",
            "49\n",
            "64\n",
            "81\n",
            "100\n"
          ]
        }
      ]
    },
    {
      "cell_type": "code",
      "source": [
        "num = (1,4,9,16,25,36,49,64,81,100)\n",
        "x = 36\n",
        "\n",
        "for i in num :\n",
        "  if i == x :\n",
        "    print(\"x found\")\n",
        "  else :\n",
        "    print(\"x not found\")"
      ],
      "metadata": {
        "colab": {
          "base_uri": "https://localhost:8080/"
        },
        "id": "bAKseer1TdCH",
        "outputId": "896659e3-d624-4959-d2e1-3c3524c56086"
      },
      "execution_count": 10,
      "outputs": [
        {
          "output_type": "stream",
          "name": "stdout",
          "text": [
            "x not found\n",
            "x not found\n",
            "x not found\n",
            "x not found\n",
            "x not found\n",
            "x found\n",
            "x not found\n",
            "x not found\n",
            "x not found\n",
            "x not found\n"
          ]
        }
      ]
    },
    {
      "cell_type": "code",
      "source": [],
      "metadata": {
        "id": "OfEmHk5cTdAI"
      },
      "execution_count": null,
      "outputs": []
    },
    {
      "cell_type": "code",
      "source": [
        "num = (1,4,9,16,25,36,49,64,81,100)\n",
        "x = 36\n",
        "y = 81\n",
        "index = 0\n",
        "for i in num :\n",
        "  if i == x :\n",
        "    print(\"x found at\", index)\n",
        "  if i == y :\n",
        "    print(\"y found at\", index)\n",
        "  index += 1"
      ],
      "metadata": {
        "colab": {
          "base_uri": "https://localhost:8080/"
        },
        "outputId": "b33a3777-12f6-41d2-b74e-aa521b138c1c",
        "id": "g4KfIKiHtnhI"
      },
      "execution_count": 13,
      "outputs": [
        {
          "output_type": "stream",
          "name": "stdout",
          "text": [
            "x found at 5\n",
            "y found at 8\n"
          ]
        }
      ]
    },
    {
      "cell_type": "code",
      "source": [],
      "metadata": {
        "id": "DvUJmZw8tpy4"
      },
      "execution_count": null,
      "outputs": []
    },
    {
      "cell_type": "code",
      "source": [
        "num = (1,4,9,16,25,36,49,64,81,100)\n",
        "x = 36\n",
        "y = 81\n",
        "index = 0\n",
        "for i in num :\n",
        "  if i == x :\n",
        "    print(\"x found at\", index)\n",
        "    break\n",
        "  if i == y :\n",
        "    print(\"y found at\", index)\n",
        "  index += 1"
      ],
      "metadata": {
        "colab": {
          "base_uri": "https://localhost:8080/"
        },
        "outputId": "351b8709-d9db-422b-9a72-84d322174d7c",
        "id": "6JObJcK1vriE"
      },
      "execution_count": 14,
      "outputs": [
        {
          "output_type": "stream",
          "name": "stdout",
          "text": [
            "x found at 5\n"
          ]
        }
      ]
    },
    {
      "cell_type": "code",
      "source": [
        "# using range() function :\n",
        "\n",
        "for i in range(10) :\n",
        "  print(i)"
      ],
      "metadata": {
        "colab": {
          "base_uri": "https://localhost:8080/"
        },
        "id": "i9vNhazcvcHe",
        "outputId": "35adb7c7-7826-43f9-c91f-2a67eeb12f71"
      },
      "execution_count": 15,
      "outputs": [
        {
          "output_type": "stream",
          "name": "stdout",
          "text": [
            "0\n",
            "1\n",
            "2\n",
            "3\n",
            "4\n",
            "5\n",
            "6\n",
            "7\n",
            "8\n",
            "9\n"
          ]
        }
      ]
    },
    {
      "cell_type": "code",
      "source": [
        "for num in range(2,20,3) :\n",
        "  print(num)"
      ],
      "metadata": {
        "colab": {
          "base_uri": "https://localhost:8080/"
        },
        "id": "JMC7r660vcFL",
        "outputId": "29317799-d503-4a12-f348-bde11b81fc89"
      },
      "execution_count": 16,
      "outputs": [
        {
          "output_type": "stream",
          "name": "stdout",
          "text": [
            "2\n",
            "5\n",
            "8\n",
            "11\n",
            "14\n",
            "17\n"
          ]
        }
      ]
    },
    {
      "cell_type": "code",
      "source": [
        "for num in range(2,101,2) :\n",
        "  print(\"Even numbers between 2 to 100 :\", num)"
      ],
      "metadata": {
        "colab": {
          "base_uri": "https://localhost:8080/"
        },
        "id": "YpdtdUGrvcCz",
        "outputId": "fbb4fd90-e187-4f78-bc64-6a16ad28484f"
      },
      "execution_count": 17,
      "outputs": [
        {
          "output_type": "stream",
          "name": "stdout",
          "text": [
            "Even numbers between 2 to 100 : 2\n",
            "Even numbers between 2 to 100 : 4\n",
            "Even numbers between 2 to 100 : 6\n",
            "Even numbers between 2 to 100 : 8\n",
            "Even numbers between 2 to 100 : 10\n",
            "Even numbers between 2 to 100 : 12\n",
            "Even numbers between 2 to 100 : 14\n",
            "Even numbers between 2 to 100 : 16\n",
            "Even numbers between 2 to 100 : 18\n",
            "Even numbers between 2 to 100 : 20\n",
            "Even numbers between 2 to 100 : 22\n",
            "Even numbers between 2 to 100 : 24\n",
            "Even numbers between 2 to 100 : 26\n",
            "Even numbers between 2 to 100 : 28\n",
            "Even numbers between 2 to 100 : 30\n",
            "Even numbers between 2 to 100 : 32\n",
            "Even numbers between 2 to 100 : 34\n",
            "Even numbers between 2 to 100 : 36\n",
            "Even numbers between 2 to 100 : 38\n",
            "Even numbers between 2 to 100 : 40\n",
            "Even numbers between 2 to 100 : 42\n",
            "Even numbers between 2 to 100 : 44\n",
            "Even numbers between 2 to 100 : 46\n",
            "Even numbers between 2 to 100 : 48\n",
            "Even numbers between 2 to 100 : 50\n",
            "Even numbers between 2 to 100 : 52\n",
            "Even numbers between 2 to 100 : 54\n",
            "Even numbers between 2 to 100 : 56\n",
            "Even numbers between 2 to 100 : 58\n",
            "Even numbers between 2 to 100 : 60\n",
            "Even numbers between 2 to 100 : 62\n",
            "Even numbers between 2 to 100 : 64\n",
            "Even numbers between 2 to 100 : 66\n",
            "Even numbers between 2 to 100 : 68\n",
            "Even numbers between 2 to 100 : 70\n",
            "Even numbers between 2 to 100 : 72\n",
            "Even numbers between 2 to 100 : 74\n",
            "Even numbers between 2 to 100 : 76\n",
            "Even numbers between 2 to 100 : 78\n",
            "Even numbers between 2 to 100 : 80\n",
            "Even numbers between 2 to 100 : 82\n",
            "Even numbers between 2 to 100 : 84\n",
            "Even numbers between 2 to 100 : 86\n",
            "Even numbers between 2 to 100 : 88\n",
            "Even numbers between 2 to 100 : 90\n",
            "Even numbers between 2 to 100 : 92\n",
            "Even numbers between 2 to 100 : 94\n",
            "Even numbers between 2 to 100 : 96\n",
            "Even numbers between 2 to 100 : 98\n",
            "Even numbers between 2 to 100 : 100\n"
          ]
        }
      ]
    },
    {
      "cell_type": "code",
      "source": [
        "for i in range(1,11) :\n",
        "  print(i)"
      ],
      "metadata": {
        "colab": {
          "base_uri": "https://localhost:8080/"
        },
        "id": "xPdSEt3pvcAe",
        "outputId": "1e2061fe-ed6b-4e92-e2fc-57d3b188270b"
      },
      "execution_count": 21,
      "outputs": [
        {
          "output_type": "stream",
          "name": "stdout",
          "text": [
            "1\n",
            "2\n",
            "3\n",
            "4\n",
            "5\n",
            "6\n",
            "7\n",
            "8\n",
            "9\n",
            "10\n"
          ]
        }
      ]
    },
    {
      "cell_type": "code",
      "source": [
        "for i in range(10,0,-1) :\n",
        "  print(i)"
      ],
      "metadata": {
        "colab": {
          "base_uri": "https://localhost:8080/"
        },
        "id": "6H5VxydFvb-K",
        "outputId": "f097b0f2-2e55-4113-96e1-a74a8f405296"
      },
      "execution_count": 22,
      "outputs": [
        {
          "output_type": "stream",
          "name": "stdout",
          "text": [
            "10\n",
            "9\n",
            "8\n",
            "7\n",
            "6\n",
            "5\n",
            "4\n",
            "3\n",
            "2\n",
            "1\n"
          ]
        }
      ]
    },
    {
      "cell_type": "code",
      "source": [
        "num = 2\n",
        "print(\"Multiplication of 2 :\\n\")\n",
        "for i in range(1,11) :\n",
        "  print(i * num)"
      ],
      "metadata": {
        "colab": {
          "base_uri": "https://localhost:8080/"
        },
        "id": "Sx9v7_a2z69e",
        "outputId": "e186d6cf-877a-4e06-c66e-2d1b1604bd74"
      },
      "execution_count": 27,
      "outputs": [
        {
          "output_type": "stream",
          "name": "stdout",
          "text": [
            "Multiplication of 2 :\n",
            "\n",
            "2\n",
            "4\n",
            "6\n",
            "8\n",
            "10\n",
            "12\n",
            "14\n",
            "16\n",
            "18\n",
            "20\n"
          ]
        }
      ]
    },
    {
      "cell_type": "markdown",
      "source": [
        "1+2+3+4+5"
      ],
      "metadata": {
        "id": "ShnWUuoLQTKr"
      }
    },
    {
      "cell_type": "code",
      "source": [
        "i = 1\n",
        "while i <= 5 :\n",
        "  print(i)"
      ],
      "metadata": {
        "id": "dl4s66b60k4o"
      },
      "execution_count": null,
      "outputs": []
    }
  ]
}