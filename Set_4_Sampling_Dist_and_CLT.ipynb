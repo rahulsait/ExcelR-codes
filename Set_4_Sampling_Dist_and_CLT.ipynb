{
  "nbformat": 4,
  "nbformat_minor": 0,
  "metadata": {
    "colab": {
      "name": "Set 4 : Sampling Dist and CLT.ipynb",
      "provenance": [],
      "authorship_tag": "ABX9TyMyjcB0abpvj5LT7Wrz+kZ9",
      "include_colab_link": true
    },
    "kernelspec": {
      "name": "python3",
      "display_name": "Python 3"
    },
    "language_info": {
      "name": "python"
    }
  },
  "cells": [
    {
      "cell_type": "markdown",
      "metadata": {
        "id": "view-in-github",
        "colab_type": "text"
      },
      "source": [
        "<a href=\"https://colab.research.google.com/github/rahulsait/ExcelR-codes/blob/main/Set_4_Sampling_Dist_and_CLT.ipynb\" target=\"_parent\"><img src=\"https://colab.research.google.com/assets/colab-badge.svg\" alt=\"Open In Colab\"/></a>"
      ]
    },
    {
      "cell_type": "code",
      "execution_count": 2,
      "metadata": {
        "id": "AL0AEVMp47jD"
      },
      "outputs": [],
      "source": [
        "import numpy as np\n",
        "import pandas as pd\n",
        "import matplotlib.pyplot as plt\n",
        "import seaborn as sns\n",
        "import scipy\n",
        "%matplotlib inline"
      ]
    },
    {
      "cell_type": "code",
      "source": [
        "from scipy import stats"
      ],
      "metadata": {
        "id": "JquNJxpc52ZK"
      },
      "execution_count": 3,
      "outputs": []
    },
    {
      "cell_type": "markdown",
      "source": [
        "## **Q] Auditors at a small community bank randomly sample 100 withdrawal transactions made during the week at an ATM machine located near the bank’s main branch. Over the past 2 years, the average withdrawal amount has been $50 with standard deviation of $40. Since audit investigations are typically expensive, the auditors decide to not initiate further investigations if the mean transaction amount of the sample is between $45 and $55. What is the probability that in any given week, there will be an investigation?**"
      ],
      "metadata": {
        "id": "3VpiI0ou6abF"
      }
    },
    {
      "cell_type": "markdown",
      "source": [
        "## ANS]  Sample Size (n) = 100\n",
        "Sample mean (x) = $50\n",
        "Sample STD (s) = $40\n",
        "If mean transaction amount of the sample is (45,55) : \"No Investigation\"\n",
        "If mean transaction amount of the sample is < 45 or > 55 : \"Investigaiton\""
      ],
      "metadata": {
        "id": "FpKGDpkq65Ye"
      }
    },
    {
      "cell_type": "code",
      "source": [
        "# Sample Size = 100 > 30 : (Normal Dist.)\n",
        "# This is a one sample t test."
      ],
      "metadata": {
        "id": "0n3ShbV752WY"
      },
      "execution_count": 4,
      "outputs": []
    },
    {
      "cell_type": "code",
      "source": [
        "# so we calculate the critical value (t) :\n",
        "\n",
        "# t for x = 45 :\n",
        "# t = 45 - 50/S.E            # Standard Error (SE) : 40/10 = 4\n",
        "# t(45) = -1.25\n",
        "\n",
        "# t for x = 55 :\n",
        "# t = 55 - 50/S.E\n",
        "# t(55) = 1.25"
      ],
      "metadata": {
        "id": "uHxx2dQr52R7"
      },
      "execution_count": 6,
      "outputs": []
    },
    {
      "cell_type": "code",
      "source": [
        "# computing p-value to get the prob between 45 and 55 :\n",
        "stats.t.cdf(1.25, 99) - stats.t.cdf(-1.25, 99)"
      ],
      "metadata": {
        "colab": {
          "base_uri": "https://localhost:8080/"
        },
        "id": "OGSbT_f152PC",
        "outputId": "6435b541-6352-451e-ac58-527299e213b5"
      },
      "execution_count": 7,
      "outputs": [
        {
          "output_type": "execute_result",
          "data": {
            "text/plain": [
              "0.7857536624316135"
            ]
          },
          "metadata": {},
          "execution_count": 7
        }
      ]
    },
    {
      "cell_type": "code",
      "source": [
        "# we need the probability for x < 45 and x > 55 :\n",
        "1 - (stats.t.cdf(1.25, 99) - stats.t.cdf(-1.25, 99))"
      ],
      "metadata": {
        "colab": {
          "base_uri": "https://localhost:8080/"
        },
        "id": "7QrPAigs52MN",
        "outputId": "223bf991-0956-4d65-e171-6307d96e7bcc"
      },
      "execution_count": 9,
      "outputs": [
        {
          "output_type": "execute_result",
          "data": {
            "text/plain": [
              "0.2142463375683865"
            ]
          },
          "metadata": {},
          "execution_count": 9
        }
      ]
    },
    {
      "cell_type": "code",
      "source": [
        "# So the probability that the Investigation happens is 0.214"
      ],
      "metadata": {
        "id": "byy34qcP52Jx"
      },
      "execution_count": 10,
      "outputs": []
    },
    {
      "cell_type": "code",
      "source": [
        ""
      ],
      "metadata": {
        "id": "cTyHGsUZ52B4"
      },
      "execution_count": 10,
      "outputs": []
    },
    {
      "cell_type": "markdown",
      "source": [
        "## **The auditors from the above example would like to maintain the probability of investigation to 5%. Which of the following represents the minimum number transactions that they should sample if they do not want to change the thresholds of 45 and 55? Assume that the sample statistics remain unchanged.**"
      ],
      "metadata": {
        "id": "YsPUAcE193zz"
      }
    },
    {
      "cell_type": "code",
      "source": [
        "stats.t.cdf(1.975, 249) - stats.t.cdf(-1.975, 249)"
      ],
      "metadata": {
        "colab": {
          "base_uri": "https://localhost:8080/"
        },
        "id": "rEIDIDXD51vn",
        "outputId": "37a2d1fe-010b-4e95-9d5d-805b4208ef06"
      },
      "execution_count": 13,
      "outputs": [
        {
          "output_type": "execute_result",
          "data": {
            "text/plain": [
              "0.9506272524504177"
            ]
          },
          "metadata": {},
          "execution_count": 13
        }
      ]
    },
    {
      "cell_type": "code",
      "source": [
        ""
      ],
      "metadata": {
        "id": "UxN2n6xxAH6w"
      },
      "execution_count": null,
      "outputs": []
    }
  ]
}